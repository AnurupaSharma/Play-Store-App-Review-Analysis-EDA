{
  "nbformat": 4,
  "nbformat_minor": 0,
  "metadata": {
    "colab": {
      "provenance": [],
      "authorship_tag": "ABX9TyMICKVpneViTmr7vxmeLH9p",
      "include_colab_link": true
    },
    "kernelspec": {
      "name": "python3",
      "display_name": "Python 3"
    },
    "language_info": {
      "name": "python"
    }
  },
  "cells": [
    {
      "cell_type": "markdown",
      "metadata": {
        "id": "view-in-github",
        "colab_type": "text"
      },
      "source": [
        "<a href=\"https://colab.research.google.com/github/AnurupaSharma/Play-Store-App-Review-Analysis-EDA/blob/main/Play_Store_App_Review_Analysis_EDA_Capstone_Project_.ipynb\" target=\"_parent\"><img src=\"https://colab.research.google.com/assets/colab-badge.svg\" alt=\"Open In Colab\"/></a>"
      ]
    },
    {
      "cell_type": "markdown",
      "source": [
        "# **Project Name -** Play Store App Review Analysis/EDA\n"
      ],
      "metadata": {
        "id": "F0si6MgqggVZ"
      }
    },
    {
      "cell_type": "markdown",
      "source": [
        "##### **Project Type**    - EDA\n",
        "##### **Contribution**    - Individual\n",
        "\n"
      ],
      "metadata": {
        "id": "QQUy7Xcfgvff"
      }
    },
    {
      "cell_type": "markdown",
      "source": [
        "# **Project Summary -**"
      ],
      "metadata": {
        "id": "vuMDD9g_h-RF"
      }
    },
    {
      "cell_type": "markdown",
      "source": [
        "This is an EDA project in this project I will have to visualize the dataset using EDA. The dataset is about Play Store App Review which has 10841 rows and 13 columns like App represent name of the app , category represent category of the app, Rating represent app's rating by user out of 5, size represent the size of the app , Installs represent number of Installs of the app , Type represent weather the app is free or paid, Price represent the app in $ , content rating represent the target audience of the app, Genres represent the genre of app, Last Updated represent date the app updated last time, Current ver represent current version of app , Android Ver represent android version required to run the app. Play Store is one of the largest and most popular android app stores with over a million apps. My task is to import all the python libraries after that I will have to read and understand the data and observe the data by exploring few rows, checking shape, columns, data types etc after that I will clean and transform the data to make data efficient for analysis and visualisation and then visualise data withe the help of graphs and plots to learn trends , patterns and get answers to the question related to the data."
      ],
      "metadata": {
        "id": "CLhFdkZTA0Nc"
      }
    },
    {
      "cell_type": "markdown",
      "source": [
        "# **Problem Statement**"
      ],
      "metadata": {
        "id": "zdQzbs8QzhRB"
      }
    },
    {
      "cell_type": "markdown",
      "source": [
        "Our main objective is to analyze the dataset and find out which features contribute to app success and how these features affect the user engagement with the app."
      ],
      "metadata": {
        "id": "-aBLSSQ3z7Eq"
      }
    },
    {
      "cell_type": "markdown",
      "source": [
        "# ***Let's Begin !***"
      ],
      "metadata": {
        "id": "rC00SYNO2gHn"
      }
    },
    {
      "cell_type": "markdown",
      "source": [
        "## ***1. Know Your Data***"
      ],
      "metadata": {
        "id": "xTHoryUuykYD"
      }
    },
    {
      "cell_type": "markdown",
      "source": [
        "## Import Libraries"
      ],
      "metadata": {
        "id": "HZp6tg8H5q9U"
      }
    },
    {
      "cell_type": "code",
      "source": [
        "# Import Libraries\n",
        "\n",
        "import pandas as pd\n",
        "import numpy as np\n",
        "import matplotlib.pyplot as plt\n",
        "%matplotlib inline\n",
        "import seaborn as sns\n",
        "\n",
        "import warnings\n",
        "warnings.filterwarnings('ignore')\n"
      ],
      "metadata": {
        "id": "lGAmrG0Q2fjK"
      },
      "execution_count": null,
      "outputs": []
    },
    {
      "cell_type": "markdown",
      "source": [
        "## Dataset Loading"
      ],
      "metadata": {
        "id": "_V2QFtC451Vi"
      }
    },
    {
      "cell_type": "code",
      "source": [
        "# Load Dataset\n",
        "from google.colab import drive\n",
        "drive.mount('/content/drive')"
      ],
      "metadata": {
        "id": "Kj7Q8TRqfWGU",
        "colab": {
          "base_uri": "https://localhost:8080/"
        },
        "outputId": "e3e8e578-eeb8-4724-9b0b-c9500fe6a28e"
      },
      "execution_count": null,
      "outputs": [
        {
          "output_type": "stream",
          "name": "stdout",
          "text": [
            "Mounted at /content/drive\n"
          ]
        }
      ]
    },
    {
      "cell_type": "code",
      "source": [
        "play_store_data = pd.read_csv(\"/content/drive/MyDrive/Play Store Data.csv\")"
      ],
      "metadata": {
        "id": "G5TIbEu1fWDs"
      },
      "execution_count": null,
      "outputs": []
    },
    {
      "cell_type": "markdown",
      "source": [
        "## Dataset First View"
      ],
      "metadata": {
        "id": "BrKTmMXK6HWh"
      }
    },
    {
      "cell_type": "code",
      "source": [
        "# Dataset First Look\n",
        "play_store_data.head()"
      ],
      "metadata": {
        "id": "LBJlpIiHfWBI",
        "colab": {
          "base_uri": "https://localhost:8080/",
          "height": 406
        },
        "outputId": "1f9f15bf-c9a3-4914-af83-0faca843e5eb"
      },
      "execution_count": null,
      "outputs": [
        {
          "output_type": "execute_result",
          "data": {
            "text/plain": [
              "                                                 App        Category  Rating  \\\n",
              "0     Photo Editor & Candy Camera & Grid & ScrapBook  ART_AND_DESIGN     4.1   \n",
              "1                                Coloring book moana  ART_AND_DESIGN     3.9   \n",
              "2  U Launcher Lite – FREE Live Cool Themes, Hide ...  ART_AND_DESIGN     4.7   \n",
              "3                              Sketch - Draw & Paint  ART_AND_DESIGN     4.5   \n",
              "4              Pixel Draw - Number Art Coloring Book  ART_AND_DESIGN     4.3   \n",
              "\n",
              "  Reviews  Size     Installs  Type Price Content Rating  \\\n",
              "0     159   19M      10,000+  Free     0       Everyone   \n",
              "1     967   14M     500,000+  Free     0       Everyone   \n",
              "2   87510  8.7M   5,000,000+  Free     0       Everyone   \n",
              "3  215644   25M  50,000,000+  Free     0           Teen   \n",
              "4     967  2.8M     100,000+  Free     0       Everyone   \n",
              "\n",
              "                      Genres      Last Updated         Current Ver  \\\n",
              "0               Art & Design   January 7, 2018               1.0.0   \n",
              "1  Art & Design;Pretend Play  January 15, 2018               2.0.0   \n",
              "2               Art & Design    August 1, 2018               1.2.4   \n",
              "3               Art & Design      June 8, 2018  Varies with device   \n",
              "4    Art & Design;Creativity     June 20, 2018                 1.1   \n",
              "\n",
              "    Android Ver  \n",
              "0  4.0.3 and up  \n",
              "1  4.0.3 and up  \n",
              "2  4.0.3 and up  \n",
              "3    4.2 and up  \n",
              "4    4.4 and up  "
            ],
            "text/html": [
              "\n",
              "  <div id=\"df-0be63486-4914-49d1-9145-a94d2f800880\">\n",
              "    <div class=\"colab-df-container\">\n",
              "      <div>\n",
              "<style scoped>\n",
              "    .dataframe tbody tr th:only-of-type {\n",
              "        vertical-align: middle;\n",
              "    }\n",
              "\n",
              "    .dataframe tbody tr th {\n",
              "        vertical-align: top;\n",
              "    }\n",
              "\n",
              "    .dataframe thead th {\n",
              "        text-align: right;\n",
              "    }\n",
              "</style>\n",
              "<table border=\"1\" class=\"dataframe\">\n",
              "  <thead>\n",
              "    <tr style=\"text-align: right;\">\n",
              "      <th></th>\n",
              "      <th>App</th>\n",
              "      <th>Category</th>\n",
              "      <th>Rating</th>\n",
              "      <th>Reviews</th>\n",
              "      <th>Size</th>\n",
              "      <th>Installs</th>\n",
              "      <th>Type</th>\n",
              "      <th>Price</th>\n",
              "      <th>Content Rating</th>\n",
              "      <th>Genres</th>\n",
              "      <th>Last Updated</th>\n",
              "      <th>Current Ver</th>\n",
              "      <th>Android Ver</th>\n",
              "    </tr>\n",
              "  </thead>\n",
              "  <tbody>\n",
              "    <tr>\n",
              "      <th>0</th>\n",
              "      <td>Photo Editor &amp; Candy Camera &amp; Grid &amp; ScrapBook</td>\n",
              "      <td>ART_AND_DESIGN</td>\n",
              "      <td>4.1</td>\n",
              "      <td>159</td>\n",
              "      <td>19M</td>\n",
              "      <td>10,000+</td>\n",
              "      <td>Free</td>\n",
              "      <td>0</td>\n",
              "      <td>Everyone</td>\n",
              "      <td>Art &amp; Design</td>\n",
              "      <td>January 7, 2018</td>\n",
              "      <td>1.0.0</td>\n",
              "      <td>4.0.3 and up</td>\n",
              "    </tr>\n",
              "    <tr>\n",
              "      <th>1</th>\n",
              "      <td>Coloring book moana</td>\n",
              "      <td>ART_AND_DESIGN</td>\n",
              "      <td>3.9</td>\n",
              "      <td>967</td>\n",
              "      <td>14M</td>\n",
              "      <td>500,000+</td>\n",
              "      <td>Free</td>\n",
              "      <td>0</td>\n",
              "      <td>Everyone</td>\n",
              "      <td>Art &amp; Design;Pretend Play</td>\n",
              "      <td>January 15, 2018</td>\n",
              "      <td>2.0.0</td>\n",
              "      <td>4.0.3 and up</td>\n",
              "    </tr>\n",
              "    <tr>\n",
              "      <th>2</th>\n",
              "      <td>U Launcher Lite – FREE Live Cool Themes, Hide ...</td>\n",
              "      <td>ART_AND_DESIGN</td>\n",
              "      <td>4.7</td>\n",
              "      <td>87510</td>\n",
              "      <td>8.7M</td>\n",
              "      <td>5,000,000+</td>\n",
              "      <td>Free</td>\n",
              "      <td>0</td>\n",
              "      <td>Everyone</td>\n",
              "      <td>Art &amp; Design</td>\n",
              "      <td>August 1, 2018</td>\n",
              "      <td>1.2.4</td>\n",
              "      <td>4.0.3 and up</td>\n",
              "    </tr>\n",
              "    <tr>\n",
              "      <th>3</th>\n",
              "      <td>Sketch - Draw &amp; Paint</td>\n",
              "      <td>ART_AND_DESIGN</td>\n",
              "      <td>4.5</td>\n",
              "      <td>215644</td>\n",
              "      <td>25M</td>\n",
              "      <td>50,000,000+</td>\n",
              "      <td>Free</td>\n",
              "      <td>0</td>\n",
              "      <td>Teen</td>\n",
              "      <td>Art &amp; Design</td>\n",
              "      <td>June 8, 2018</td>\n",
              "      <td>Varies with device</td>\n",
              "      <td>4.2 and up</td>\n",
              "    </tr>\n",
              "    <tr>\n",
              "      <th>4</th>\n",
              "      <td>Pixel Draw - Number Art Coloring Book</td>\n",
              "      <td>ART_AND_DESIGN</td>\n",
              "      <td>4.3</td>\n",
              "      <td>967</td>\n",
              "      <td>2.8M</td>\n",
              "      <td>100,000+</td>\n",
              "      <td>Free</td>\n",
              "      <td>0</td>\n",
              "      <td>Everyone</td>\n",
              "      <td>Art &amp; Design;Creativity</td>\n",
              "      <td>June 20, 2018</td>\n",
              "      <td>1.1</td>\n",
              "      <td>4.4 and up</td>\n",
              "    </tr>\n",
              "  </tbody>\n",
              "</table>\n",
              "</div>\n",
              "      <button class=\"colab-df-convert\" onclick=\"convertToInteractive('df-0be63486-4914-49d1-9145-a94d2f800880')\"\n",
              "              title=\"Convert this dataframe to an interactive table.\"\n",
              "              style=\"display:none;\">\n",
              "        \n",
              "  <svg xmlns=\"http://www.w3.org/2000/svg\" height=\"24px\"viewBox=\"0 0 24 24\"\n",
              "       width=\"24px\">\n",
              "    <path d=\"M0 0h24v24H0V0z\" fill=\"none\"/>\n",
              "    <path d=\"M18.56 5.44l.94 2.06.94-2.06 2.06-.94-2.06-.94-.94-2.06-.94 2.06-2.06.94zm-11 1L8.5 8.5l.94-2.06 2.06-.94-2.06-.94L8.5 2.5l-.94 2.06-2.06.94zm10 10l.94 2.06.94-2.06 2.06-.94-2.06-.94-.94-2.06-.94 2.06-2.06.94z\"/><path d=\"M17.41 7.96l-1.37-1.37c-.4-.4-.92-.59-1.43-.59-.52 0-1.04.2-1.43.59L10.3 9.45l-7.72 7.72c-.78.78-.78 2.05 0 2.83L4 21.41c.39.39.9.59 1.41.59.51 0 1.02-.2 1.41-.59l7.78-7.78 2.81-2.81c.8-.78.8-2.07 0-2.86zM5.41 20L4 18.59l7.72-7.72 1.47 1.35L5.41 20z\"/>\n",
              "  </svg>\n",
              "      </button>\n",
              "      \n",
              "  <style>\n",
              "    .colab-df-container {\n",
              "      display:flex;\n",
              "      flex-wrap:wrap;\n",
              "      gap: 12px;\n",
              "    }\n",
              "\n",
              "    .colab-df-convert {\n",
              "      background-color: #E8F0FE;\n",
              "      border: none;\n",
              "      border-radius: 50%;\n",
              "      cursor: pointer;\n",
              "      display: none;\n",
              "      fill: #1967D2;\n",
              "      height: 32px;\n",
              "      padding: 0 0 0 0;\n",
              "      width: 32px;\n",
              "    }\n",
              "\n",
              "    .colab-df-convert:hover {\n",
              "      background-color: #E2EBFA;\n",
              "      box-shadow: 0px 1px 2px rgba(60, 64, 67, 0.3), 0px 1px 3px 1px rgba(60, 64, 67, 0.15);\n",
              "      fill: #174EA6;\n",
              "    }\n",
              "\n",
              "    [theme=dark] .colab-df-convert {\n",
              "      background-color: #3B4455;\n",
              "      fill: #D2E3FC;\n",
              "    }\n",
              "\n",
              "    [theme=dark] .colab-df-convert:hover {\n",
              "      background-color: #434B5C;\n",
              "      box-shadow: 0px 1px 3px 1px rgba(0, 0, 0, 0.15);\n",
              "      filter: drop-shadow(0px 1px 2px rgba(0, 0, 0, 0.3));\n",
              "      fill: #FFFFFF;\n",
              "    }\n",
              "  </style>\n",
              "\n",
              "      <script>\n",
              "        const buttonEl =\n",
              "          document.querySelector('#df-0be63486-4914-49d1-9145-a94d2f800880 button.colab-df-convert');\n",
              "        buttonEl.style.display =\n",
              "          google.colab.kernel.accessAllowed ? 'block' : 'none';\n",
              "\n",
              "        async function convertToInteractive(key) {\n",
              "          const element = document.querySelector('#df-0be63486-4914-49d1-9145-a94d2f800880');\n",
              "          const dataTable =\n",
              "            await google.colab.kernel.invokeFunction('convertToInteractive',\n",
              "                                                     [key], {});\n",
              "          if (!dataTable) return;\n",
              "\n",
              "          const docLinkHtml = 'Like what you see? Visit the ' +\n",
              "            '<a target=\"_blank\" href=https://colab.research.google.com/notebooks/data_table.ipynb>data table notebook</a>'\n",
              "            + ' to learn more about interactive tables.';\n",
              "          element.innerHTML = '';\n",
              "          dataTable['output_type'] = 'display_data';\n",
              "          await google.colab.output.renderOutput(dataTable, element);\n",
              "          const docLink = document.createElement('div');\n",
              "          docLink.innerHTML = docLinkHtml;\n",
              "          element.appendChild(docLink);\n",
              "        }\n",
              "      </script>\n",
              "    </div>\n",
              "  </div>\n",
              "  "
            ]
          },
          "metadata": {},
          "execution_count": 4
        }
      ]
    },
    {
      "cell_type": "markdown",
      "source": [
        "## Dataset Rows & Columns count"
      ],
      "metadata": {
        "id": "U4w_m5sprcDW"
      }
    },
    {
      "cell_type": "code",
      "source": [
        "# Dataset Rows & Columns count\n",
        "play_store_data.shape"
      ],
      "metadata": {
        "colab": {
          "base_uri": "https://localhost:8080/"
        },
        "id": "vjFrcOmR4v2r",
        "outputId": "09ba35f3-75eb-4c12-fd6b-8133c40b8ec1"
      },
      "execution_count": null,
      "outputs": [
        {
          "output_type": "execute_result",
          "data": {
            "text/plain": [
              "(10841, 13)"
            ]
          },
          "metadata": {},
          "execution_count": 5
        }
      ]
    },
    {
      "cell_type": "markdown",
      "source": [
        "## Dataset Information"
      ],
      "metadata": {
        "id": "ZeOPYH50roj7"
      }
    },
    {
      "cell_type": "code",
      "source": [
        "# Dataset Info\n",
        "play_store_data.info()"
      ],
      "metadata": {
        "colab": {
          "base_uri": "https://localhost:8080/"
        },
        "id": "0mQ1T04JOX_N",
        "outputId": "b307239d-a356-4695-a253-195594a038d1"
      },
      "execution_count": null,
      "outputs": [
        {
          "output_type": "stream",
          "name": "stdout",
          "text": [
            "<class 'pandas.core.frame.DataFrame'>\n",
            "RangeIndex: 10841 entries, 0 to 10840\n",
            "Data columns (total 13 columns):\n",
            " #   Column          Non-Null Count  Dtype  \n",
            "---  ------          --------------  -----  \n",
            " 0   App             10841 non-null  object \n",
            " 1   Category        10841 non-null  object \n",
            " 2   Rating          9367 non-null   float64\n",
            " 3   Reviews         10841 non-null  object \n",
            " 4   Size            10841 non-null  object \n",
            " 5   Installs        10841 non-null  object \n",
            " 6   Type            10840 non-null  object \n",
            " 7   Price           10841 non-null  object \n",
            " 8   Content Rating  10840 non-null  object \n",
            " 9   Genres          10841 non-null  object \n",
            " 10  Last Updated    10841 non-null  object \n",
            " 11  Current Ver     10833 non-null  object \n",
            " 12  Android Ver     10838 non-null  object \n",
            "dtypes: float64(1), object(12)\n",
            "memory usage: 1.1+ MB\n"
          ]
        }
      ]
    },
    {
      "cell_type": "markdown",
      "source": [
        "## Duplicate Values"
      ],
      "metadata": {
        "id": "1yL232rMr_d3"
      }
    },
    {
      "cell_type": "code",
      "source": [
        "# Dataset Duplicate Value Count\n",
        "play_store_data[play_store_data.duplicated()].shape"
      ],
      "metadata": {
        "colab": {
          "base_uri": "https://localhost:8080/"
        },
        "id": "7-TZZy74rwIA",
        "outputId": "2c39f061-e480-4c3d-e90d-46b3a3a94787"
      },
      "execution_count": null,
      "outputs": [
        {
          "output_type": "execute_result",
          "data": {
            "text/plain": [
              "(483, 13)"
            ]
          },
          "metadata": {},
          "execution_count": 7
        }
      ]
    },
    {
      "cell_type": "markdown",
      "source": [
        "## Missing Values/Null Values"
      ],
      "metadata": {
        "id": "W5YJqPoMsJ_m"
      }
    },
    {
      "cell_type": "code",
      "source": [
        "# Missing Values/Null Values Count\n",
        "play_store_data.isnull().sum()"
      ],
      "metadata": {
        "colab": {
          "base_uri": "https://localhost:8080/"
        },
        "id": "4hfmjsX8Of8l",
        "outputId": "3f29bd04-0e6f-477f-b8d4-9ac6e1b59b8e"
      },
      "execution_count": null,
      "outputs": [
        {
          "output_type": "execute_result",
          "data": {
            "text/plain": [
              "App                  0\n",
              "Category             0\n",
              "Rating            1474\n",
              "Reviews              0\n",
              "Size                 0\n",
              "Installs             0\n",
              "Type                 1\n",
              "Price                0\n",
              "Content Rating       1\n",
              "Genres               0\n",
              "Last Updated         0\n",
              "Current Ver          8\n",
              "Android Ver          3\n",
              "dtype: int64"
            ]
          },
          "metadata": {},
          "execution_count": 8
        }
      ]
    },
    {
      "cell_type": "markdown",
      "source": [
        "## What did you know about your dataset?"
      ],
      "metadata": {
        "id": "-hw0w2rFy2YL"
      }
    },
    {
      "cell_type": "markdown",
      "source": [
        "The dataset contain 10841 apps and 13 features.\n",
        "\n",
        "The play_store_data.info() function showed us that some of the columns like 'Rating' have missing values and some have incorrect data types associated with them.\n",
        "\n",
        "The dataset contain some duplicated value as well.\n",
        "\n",
        "\n",
        "\n"
      ],
      "metadata": {
        "id": "R0_v8JzEzInj"
      }
    },
    {
      "cell_type": "markdown",
      "source": [
        "## ***2. Understanding Your Variables***"
      ],
      "metadata": {
        "id": "Cw--l-J204zo"
      }
    },
    {
      "cell_type": "code",
      "source": [
        "# Dataset Columns\n",
        "play_store_data.columns"
      ],
      "metadata": {
        "colab": {
          "base_uri": "https://localhost:8080/"
        },
        "id": "7cyrss6h0sn4",
        "outputId": "f8476ffc-64a5-45b2-ecee-7c2a79d6b2bd"
      },
      "execution_count": null,
      "outputs": [
        {
          "output_type": "execute_result",
          "data": {
            "text/plain": [
              "Index(['App', 'Category', 'Rating', 'Reviews', 'Size', 'Installs', 'Type',\n",
              "       'Price', 'Content Rating', 'Genres', 'Last Updated', 'Current Ver',\n",
              "       'Android Ver'],\n",
              "      dtype='object')"
            ]
          },
          "metadata": {},
          "execution_count": 9
        }
      ]
    },
    {
      "cell_type": "code",
      "source": [
        "# Dataset Describe\n",
        "play_store_data.describe()"
      ],
      "metadata": {
        "colab": {
          "base_uri": "https://localhost:8080/",
          "height": 300
        },
        "id": "hLNpMC5t0sk2",
        "outputId": "37791a37-6480-4121-f0cf-12b8ec0ad3d2"
      },
      "execution_count": null,
      "outputs": [
        {
          "output_type": "execute_result",
          "data": {
            "text/plain": [
              "            Rating\n",
              "count  9367.000000\n",
              "mean      4.193338\n",
              "std       0.537431\n",
              "min       1.000000\n",
              "25%       4.000000\n",
              "50%       4.300000\n",
              "75%       4.500000\n",
              "max      19.000000"
            ],
            "text/html": [
              "\n",
              "  <div id=\"df-fa6fab6c-540b-48a0-a457-6bcbe7c2cb53\">\n",
              "    <div class=\"colab-df-container\">\n",
              "      <div>\n",
              "<style scoped>\n",
              "    .dataframe tbody tr th:only-of-type {\n",
              "        vertical-align: middle;\n",
              "    }\n",
              "\n",
              "    .dataframe tbody tr th {\n",
              "        vertical-align: top;\n",
              "    }\n",
              "\n",
              "    .dataframe thead th {\n",
              "        text-align: right;\n",
              "    }\n",
              "</style>\n",
              "<table border=\"1\" class=\"dataframe\">\n",
              "  <thead>\n",
              "    <tr style=\"text-align: right;\">\n",
              "      <th></th>\n",
              "      <th>Rating</th>\n",
              "    </tr>\n",
              "  </thead>\n",
              "  <tbody>\n",
              "    <tr>\n",
              "      <th>count</th>\n",
              "      <td>9367.000000</td>\n",
              "    </tr>\n",
              "    <tr>\n",
              "      <th>mean</th>\n",
              "      <td>4.193338</td>\n",
              "    </tr>\n",
              "    <tr>\n",
              "      <th>std</th>\n",
              "      <td>0.537431</td>\n",
              "    </tr>\n",
              "    <tr>\n",
              "      <th>min</th>\n",
              "      <td>1.000000</td>\n",
              "    </tr>\n",
              "    <tr>\n",
              "      <th>25%</th>\n",
              "      <td>4.000000</td>\n",
              "    </tr>\n",
              "    <tr>\n",
              "      <th>50%</th>\n",
              "      <td>4.300000</td>\n",
              "    </tr>\n",
              "    <tr>\n",
              "      <th>75%</th>\n",
              "      <td>4.500000</td>\n",
              "    </tr>\n",
              "    <tr>\n",
              "      <th>max</th>\n",
              "      <td>19.000000</td>\n",
              "    </tr>\n",
              "  </tbody>\n",
              "</table>\n",
              "</div>\n",
              "      <button class=\"colab-df-convert\" onclick=\"convertToInteractive('df-fa6fab6c-540b-48a0-a457-6bcbe7c2cb53')\"\n",
              "              title=\"Convert this dataframe to an interactive table.\"\n",
              "              style=\"display:none;\">\n",
              "        \n",
              "  <svg xmlns=\"http://www.w3.org/2000/svg\" height=\"24px\"viewBox=\"0 0 24 24\"\n",
              "       width=\"24px\">\n",
              "    <path d=\"M0 0h24v24H0V0z\" fill=\"none\"/>\n",
              "    <path d=\"M18.56 5.44l.94 2.06.94-2.06 2.06-.94-2.06-.94-.94-2.06-.94 2.06-2.06.94zm-11 1L8.5 8.5l.94-2.06 2.06-.94-2.06-.94L8.5 2.5l-.94 2.06-2.06.94zm10 10l.94 2.06.94-2.06 2.06-.94-2.06-.94-.94-2.06-.94 2.06-2.06.94z\"/><path d=\"M17.41 7.96l-1.37-1.37c-.4-.4-.92-.59-1.43-.59-.52 0-1.04.2-1.43.59L10.3 9.45l-7.72 7.72c-.78.78-.78 2.05 0 2.83L4 21.41c.39.39.9.59 1.41.59.51 0 1.02-.2 1.41-.59l7.78-7.78 2.81-2.81c.8-.78.8-2.07 0-2.86zM5.41 20L4 18.59l7.72-7.72 1.47 1.35L5.41 20z\"/>\n",
              "  </svg>\n",
              "      </button>\n",
              "      \n",
              "  <style>\n",
              "    .colab-df-container {\n",
              "      display:flex;\n",
              "      flex-wrap:wrap;\n",
              "      gap: 12px;\n",
              "    }\n",
              "\n",
              "    .colab-df-convert {\n",
              "      background-color: #E8F0FE;\n",
              "      border: none;\n",
              "      border-radius: 50%;\n",
              "      cursor: pointer;\n",
              "      display: none;\n",
              "      fill: #1967D2;\n",
              "      height: 32px;\n",
              "      padding: 0 0 0 0;\n",
              "      width: 32px;\n",
              "    }\n",
              "\n",
              "    .colab-df-convert:hover {\n",
              "      background-color: #E2EBFA;\n",
              "      box-shadow: 0px 1px 2px rgba(60, 64, 67, 0.3), 0px 1px 3px 1px rgba(60, 64, 67, 0.15);\n",
              "      fill: #174EA6;\n",
              "    }\n",
              "\n",
              "    [theme=dark] .colab-df-convert {\n",
              "      background-color: #3B4455;\n",
              "      fill: #D2E3FC;\n",
              "    }\n",
              "\n",
              "    [theme=dark] .colab-df-convert:hover {\n",
              "      background-color: #434B5C;\n",
              "      box-shadow: 0px 1px 3px 1px rgba(0, 0, 0, 0.15);\n",
              "      filter: drop-shadow(0px 1px 2px rgba(0, 0, 0, 0.3));\n",
              "      fill: #FFFFFF;\n",
              "    }\n",
              "  </style>\n",
              "\n",
              "      <script>\n",
              "        const buttonEl =\n",
              "          document.querySelector('#df-fa6fab6c-540b-48a0-a457-6bcbe7c2cb53 button.colab-df-convert');\n",
              "        buttonEl.style.display =\n",
              "          google.colab.kernel.accessAllowed ? 'block' : 'none';\n",
              "\n",
              "        async function convertToInteractive(key) {\n",
              "          const element = document.querySelector('#df-fa6fab6c-540b-48a0-a457-6bcbe7c2cb53');\n",
              "          const dataTable =\n",
              "            await google.colab.kernel.invokeFunction('convertToInteractive',\n",
              "                                                     [key], {});\n",
              "          if (!dataTable) return;\n",
              "\n",
              "          const docLinkHtml = 'Like what you see? Visit the ' +\n",
              "            '<a target=\"_blank\" href=https://colab.research.google.com/notebooks/data_table.ipynb>data table notebook</a>'\n",
              "            + ' to learn more about interactive tables.';\n",
              "          element.innerHTML = '';\n",
              "          dataTable['output_type'] = 'display_data';\n",
              "          await google.colab.output.renderOutput(dataTable, element);\n",
              "          const docLink = document.createElement('div');\n",
              "          docLink.innerHTML = docLinkHtml;\n",
              "          element.appendChild(docLink);\n",
              "        }\n",
              "      </script>\n",
              "    </div>\n",
              "  </div>\n",
              "  "
            ]
          },
          "metadata": {},
          "execution_count": 10
        }
      ]
    },
    {
      "cell_type": "markdown",
      "source": [
        "## Check Unique Values for each variable."
      ],
      "metadata": {
        "id": "Ss9NitUh3a1o"
      }
    },
    {
      "cell_type": "code",
      "source": [
        "# Check Unique Values for each variable.\n",
        "play_store_data['App'].value_counts()"
      ],
      "metadata": {
        "colab": {
          "base_uri": "https://localhost:8080/"
        },
        "id": "l2yRHoqO3aaE",
        "outputId": "d6398ad8-01d7-4eab-d3e8-33437e77abc2"
      },
      "execution_count": null,
      "outputs": [
        {
          "output_type": "execute_result",
          "data": {
            "text/plain": [
              "ROBLOX                                                9\n",
              "CBS Sports App - Scores, News, Stats & Watch Live     8\n",
              "ESPN                                                  7\n",
              "Duolingo: Learn Languages Free                        7\n",
              "Candy Crush Saga                                      7\n",
              "                                                     ..\n",
              "Meet U - Get Friends for Snapchat, Kik & Instagram    1\n",
              "U-Report                                              1\n",
              "U of I Community Credit Union                         1\n",
              "Waiting For U Launcher Theme                          1\n",
              "iHoroscope - 2018 Daily Horoscope & Astrology         1\n",
              "Name: App, Length: 9660, dtype: int64"
            ]
          },
          "metadata": {},
          "execution_count": 11
        }
      ]
    },
    {
      "cell_type": "code",
      "source": [
        "play_store_data['Category'].value_counts()"
      ],
      "metadata": {
        "colab": {
          "base_uri": "https://localhost:8080/"
        },
        "id": "r1KGTtOb0shX",
        "outputId": "9f31ed9a-ff68-4d8d-8321-8a3533a6a8cc"
      },
      "execution_count": null,
      "outputs": [
        {
          "output_type": "execute_result",
          "data": {
            "text/plain": [
              "FAMILY                 1972\n",
              "GAME                   1144\n",
              "TOOLS                   843\n",
              "MEDICAL                 463\n",
              "BUSINESS                460\n",
              "PRODUCTIVITY            424\n",
              "PERSONALIZATION         392\n",
              "COMMUNICATION           387\n",
              "SPORTS                  384\n",
              "LIFESTYLE               382\n",
              "FINANCE                 366\n",
              "HEALTH_AND_FITNESS      341\n",
              "PHOTOGRAPHY             335\n",
              "SOCIAL                  295\n",
              "NEWS_AND_MAGAZINES      283\n",
              "SHOPPING                260\n",
              "TRAVEL_AND_LOCAL        258\n",
              "DATING                  234\n",
              "BOOKS_AND_REFERENCE     231\n",
              "VIDEO_PLAYERS           175\n",
              "EDUCATION               156\n",
              "ENTERTAINMENT           149\n",
              "MAPS_AND_NAVIGATION     137\n",
              "FOOD_AND_DRINK          127\n",
              "HOUSE_AND_HOME           88\n",
              "LIBRARIES_AND_DEMO       85\n",
              "AUTO_AND_VEHICLES        85\n",
              "WEATHER                  82\n",
              "ART_AND_DESIGN           65\n",
              "EVENTS                   64\n",
              "PARENTING                60\n",
              "COMICS                   60\n",
              "BEAUTY                   53\n",
              "1.9                       1\n",
              "Name: Category, dtype: int64"
            ]
          },
          "metadata": {},
          "execution_count": 12
        }
      ]
    },
    {
      "cell_type": "code",
      "source": [
        "play_store_data['Rating'].value_counts()"
      ],
      "metadata": {
        "colab": {
          "base_uri": "https://localhost:8080/"
        },
        "id": "N8xn2yVu3SK_",
        "outputId": "10c0343a-71ed-4802-c54f-1e88f15c5d4d"
      },
      "execution_count": null,
      "outputs": [
        {
          "output_type": "execute_result",
          "data": {
            "text/plain": [
              "4.4     1109\n",
              "4.3     1076\n",
              "4.5     1038\n",
              "4.2      952\n",
              "4.6      823\n",
              "4.1      708\n",
              "4.0      568\n",
              "4.7      499\n",
              "3.9      386\n",
              "3.8      303\n",
              "5.0      274\n",
              "3.7      239\n",
              "4.8      234\n",
              "3.6      174\n",
              "3.5      163\n",
              "3.4      128\n",
              "3.3      102\n",
              "4.9       87\n",
              "3.0       83\n",
              "3.1       69\n",
              "3.2       64\n",
              "2.9       45\n",
              "2.8       42\n",
              "2.7       25\n",
              "2.6       25\n",
              "2.5       21\n",
              "2.3       20\n",
              "2.4       19\n",
              "1.0       16\n",
              "2.2       14\n",
              "1.9       13\n",
              "2.0       12\n",
              "1.7        8\n",
              "1.8        8\n",
              "2.1        8\n",
              "1.6        4\n",
              "1.4        3\n",
              "1.5        3\n",
              "1.2        1\n",
              "19.0       1\n",
              "Name: Rating, dtype: int64"
            ]
          },
          "metadata": {},
          "execution_count": 13
        }
      ]
    },
    {
      "cell_type": "code",
      "source": [
        "play_store_data['Reviews'].value_counts()"
      ],
      "metadata": {
        "colab": {
          "base_uri": "https://localhost:8080/"
        },
        "id": "3uMD7eYd3SHW",
        "outputId": "7a3ba23f-632f-42e7-f59c-bc29f4edfe51"
      },
      "execution_count": null,
      "outputs": [
        {
          "output_type": "execute_result",
          "data": {
            "text/plain": [
              "0         596\n",
              "1         272\n",
              "2         214\n",
              "3         175\n",
              "4         137\n",
              "         ... \n",
              "342912      1\n",
              "4272        1\n",
              "5517        1\n",
              "4057        1\n",
              "398307      1\n",
              "Name: Reviews, Length: 6002, dtype: int64"
            ]
          },
          "metadata": {},
          "execution_count": 14
        }
      ]
    },
    {
      "cell_type": "code",
      "source": [
        "play_store_data['Size'].value_counts()"
      ],
      "metadata": {
        "colab": {
          "base_uri": "https://localhost:8080/"
        },
        "id": "IJfXNHM13SDU",
        "outputId": "543d4a89-c3b9-47ba-ac68-01cd536ddb9d"
      },
      "execution_count": null,
      "outputs": [
        {
          "output_type": "execute_result",
          "data": {
            "text/plain": [
              "Varies with device    1695\n",
              "11M                    198\n",
              "12M                    196\n",
              "14M                    194\n",
              "13M                    191\n",
              "                      ... \n",
              "429k                     1\n",
              "200k                     1\n",
              "460k                     1\n",
              "728k                     1\n",
              "619k                     1\n",
              "Name: Size, Length: 462, dtype: int64"
            ]
          },
          "metadata": {},
          "execution_count": 15
        }
      ]
    },
    {
      "cell_type": "code",
      "source": [
        "play_store_data['Installs'].value_counts()"
      ],
      "metadata": {
        "colab": {
          "base_uri": "https://localhost:8080/"
        },
        "id": "Dhgdsa8E4C2s",
        "outputId": "5b000ede-81c6-473d-867a-2559e8ec2680"
      },
      "execution_count": null,
      "outputs": [
        {
          "output_type": "execute_result",
          "data": {
            "text/plain": [
              "1,000,000+        1579\n",
              "10,000,000+       1252\n",
              "100,000+          1169\n",
              "10,000+           1054\n",
              "1,000+             907\n",
              "5,000,000+         752\n",
              "100+               719\n",
              "500,000+           539\n",
              "50,000+            479\n",
              "5,000+             477\n",
              "100,000,000+       409\n",
              "10+                386\n",
              "500+               330\n",
              "50,000,000+        289\n",
              "50+                205\n",
              "5+                  82\n",
              "500,000,000+        72\n",
              "1+                  67\n",
              "1,000,000,000+      58\n",
              "0+                  14\n",
              "0                    1\n",
              "Free                 1\n",
              "Name: Installs, dtype: int64"
            ]
          },
          "metadata": {},
          "execution_count": 16
        }
      ]
    },
    {
      "cell_type": "code",
      "source": [
        "play_store_data['Price'].value_counts()"
      ],
      "metadata": {
        "colab": {
          "base_uri": "https://localhost:8080/"
        },
        "id": "8ZVmqtAv4C1D",
        "outputId": "a81a7128-7a00-4c77-a907-23267c107a28"
      },
      "execution_count": null,
      "outputs": [
        {
          "output_type": "execute_result",
          "data": {
            "text/plain": [
              "0         10040\n",
              "$0.99       148\n",
              "$2.99       129\n",
              "$1.99        73\n",
              "$4.99        72\n",
              "          ...  \n",
              "$1.75         1\n",
              "$14.00        1\n",
              "$4.85         1\n",
              "$46.99        1\n",
              "$1.04         1\n",
              "Name: Price, Length: 93, dtype: int64"
            ]
          },
          "metadata": {},
          "execution_count": 17
        }
      ]
    },
    {
      "cell_type": "code",
      "source": [
        "play_store_data['Type'].value_counts()"
      ],
      "metadata": {
        "colab": {
          "base_uri": "https://localhost:8080/"
        },
        "id": "a0f1uXbJ4CzV",
        "outputId": "7e4b9bcf-ed8d-4dbc-a54d-4a92b160bb70"
      },
      "execution_count": null,
      "outputs": [
        {
          "output_type": "execute_result",
          "data": {
            "text/plain": [
              "Free    10039\n",
              "Paid      800\n",
              "0           1\n",
              "Name: Type, dtype: int64"
            ]
          },
          "metadata": {},
          "execution_count": 18
        }
      ]
    },
    {
      "cell_type": "code",
      "source": [
        "play_store_data['Content Rating'].value_counts()"
      ],
      "metadata": {
        "colab": {
          "base_uri": "https://localhost:8080/"
        },
        "id": "6kWg8mvq4CxL",
        "outputId": "a01984ec-519d-4a07-91ce-d75d04f7d5da"
      },
      "execution_count": null,
      "outputs": [
        {
          "output_type": "execute_result",
          "data": {
            "text/plain": [
              "Everyone           8714\n",
              "Teen               1208\n",
              "Mature 17+          499\n",
              "Everyone 10+        414\n",
              "Adults only 18+       3\n",
              "Unrated               2\n",
              "Name: Content Rating, dtype: int64"
            ]
          },
          "metadata": {},
          "execution_count": 19
        }
      ]
    },
    {
      "cell_type": "code",
      "source": [
        "play_store_data['Genres'].value_counts()"
      ],
      "metadata": {
        "colab": {
          "base_uri": "https://localhost:8080/"
        },
        "id": "lTtF9kGo4Ctw",
        "outputId": "131cc211-77c2-4d5c-9910-b5620ef441b8"
      },
      "execution_count": null,
      "outputs": [
        {
          "output_type": "execute_result",
          "data": {
            "text/plain": [
              "Tools                     842\n",
              "Entertainment             623\n",
              "Education                 549\n",
              "Medical                   463\n",
              "Business                  460\n",
              "                         ... \n",
              "Arcade;Pretend Play         1\n",
              "Card;Brain Games            1\n",
              "Lifestyle;Pretend Play      1\n",
              "Comics;Creativity           1\n",
              "Strategy;Creativity         1\n",
              "Name: Genres, Length: 120, dtype: int64"
            ]
          },
          "metadata": {},
          "execution_count": 20
        }
      ]
    },
    {
      "cell_type": "code",
      "source": [
        "play_store_data['Last Updated'].value_counts()"
      ],
      "metadata": {
        "colab": {
          "base_uri": "https://localhost:8080/"
        },
        "id": "eQTqP3P_4CqY",
        "outputId": "4ce25424-7486-41bd-8e18-68e98407f489"
      },
      "execution_count": null,
      "outputs": [
        {
          "output_type": "execute_result",
          "data": {
            "text/plain": [
              "August 3, 2018        326\n",
              "August 2, 2018        304\n",
              "July 31, 2018         294\n",
              "August 1, 2018        285\n",
              "July 30, 2018         211\n",
              "                     ... \n",
              "March 20, 2014          1\n",
              "April 7, 2015           1\n",
              "September 22, 2014      1\n",
              "October 3, 2015         1\n",
              "March 23, 2014          1\n",
              "Name: Last Updated, Length: 1378, dtype: int64"
            ]
          },
          "metadata": {},
          "execution_count": 21
        }
      ]
    },
    {
      "cell_type": "code",
      "source": [
        "play_store_data['Current Ver'].value_counts()"
      ],
      "metadata": {
        "colab": {
          "base_uri": "https://localhost:8080/"
        },
        "id": "Qp79zIBX4CiS",
        "outputId": "a849dfe8-c5d5-4e88-ba47-384193d3e0a8"
      },
      "execution_count": null,
      "outputs": [
        {
          "output_type": "execute_result",
          "data": {
            "text/plain": [
              "Varies with device    1459\n",
              "1.0                    809\n",
              "1.1                    264\n",
              "1.2                    178\n",
              "2.0                    151\n",
              "                      ... \n",
              "1.0.17.3905              1\n",
              "15.1.2                   1\n",
              "4.94.19                  1\n",
              "1.1.11.11                1\n",
              "2.0.148.0                1\n",
              "Name: Current Ver, Length: 2832, dtype: int64"
            ]
          },
          "metadata": {},
          "execution_count": 22
        }
      ]
    },
    {
      "cell_type": "code",
      "source": [
        "play_store_data['Android Ver'].value_counts()"
      ],
      "metadata": {
        "colab": {
          "base_uri": "https://localhost:8080/"
        },
        "id": "acS-DMS44Cgg",
        "outputId": "62c4e06a-1aa1-4589-e17f-abed750e843e"
      },
      "execution_count": null,
      "outputs": [
        {
          "output_type": "execute_result",
          "data": {
            "text/plain": [
              "4.1 and up            2451\n",
              "4.0.3 and up          1501\n",
              "4.0 and up            1375\n",
              "Varies with device    1362\n",
              "4.4 and up             980\n",
              "2.3 and up             652\n",
              "5.0 and up             601\n",
              "4.2 and up             394\n",
              "2.3.3 and up           281\n",
              "2.2 and up             244\n",
              "4.3 and up             243\n",
              "3.0 and up             241\n",
              "2.1 and up             134\n",
              "1.6 and up             116\n",
              "6.0 and up              60\n",
              "7.0 and up              42\n",
              "3.2 and up              36\n",
              "2.0 and up              32\n",
              "5.1 and up              24\n",
              "1.5 and up              20\n",
              "4.4W and up             12\n",
              "3.1 and up              10\n",
              "2.0.1 and up             7\n",
              "8.0 and up               6\n",
              "7.1 and up               3\n",
              "4.0.3 - 7.1.1            2\n",
              "5.0 - 8.0                2\n",
              "1.0 and up               2\n",
              "7.0 - 7.1.1              1\n",
              "4.1 - 7.1.1              1\n",
              "5.0 - 6.0                1\n",
              "2.2 - 7.1.1              1\n",
              "5.0 - 7.1.1              1\n",
              "Name: Android Ver, dtype: int64"
            ]
          },
          "metadata": {},
          "execution_count": 23
        }
      ]
    },
    {
      "cell_type": "markdown",
      "source": [
        "## 3. ***Data Wrangling***"
      ],
      "metadata": {
        "id": "KmEGvt6k5Jkk"
      }
    },
    {
      "cell_type": "markdown",
      "source": [
        "## Data Wrangling Code"
      ],
      "metadata": {
        "id": "QhMnbFXV5Tma"
      }
    },
    {
      "cell_type": "markdown",
      "source": [
        "## Handling Missing Value"
      ],
      "metadata": {
        "id": "tI-mqEjAxsmF"
      }
    },
    {
      "cell_type": "code",
      "source": [
        "# dropping NAN values in Rating columns\n",
        "play_store_data = play_store_data[~(play_store_data['Rating'].isnull())]"
      ],
      "metadata": {
        "id": "BAUTwl5fOf4_"
      },
      "execution_count": null,
      "outputs": []
    },
    {
      "cell_type": "code",
      "source": [
        "# dropping NAN values less than 10\n",
        "play_store_data.dropna(inplace=True)\n"
      ],
      "metadata": {
        "id": "AjJGYZvROfym"
      },
      "execution_count": null,
      "outputs": []
    },
    {
      "cell_type": "markdown",
      "source": [
        "## Change The Variable To The Correct Types"
      ],
      "metadata": {
        "id": "4wQtN8oxXi6L"
      }
    },
    {
      "cell_type": "code",
      "source": [
        "# Price Column\n",
        "play_store_data['Price'] = play_store_data['Price'].apply(lambda x:0 if x==\"0\" else float(x[1:]))"
      ],
      "metadata": {
        "id": "aiUpQMkvYIuM"
      },
      "execution_count": null,
      "outputs": []
    },
    {
      "cell_type": "code",
      "source": [
        "# Installs column\n",
        "play_store_data['Installs'] = play_store_data['Installs'].apply(lambda x:int(x.replace(\",\",\"\").replace(\"+\",\"\")))"
      ],
      "metadata": {
        "id": "KsmJgdH7RzZF"
      },
      "execution_count": null,
      "outputs": []
    },
    {
      "cell_type": "code",
      "source": [
        "# Reviews column\n",
        "play_store_data['Reviews'] = play_store_data['Reviews'].astype('int')"
      ],
      "metadata": {
        "id": "aBINdmBvTdMT"
      },
      "execution_count": null,
      "outputs": []
    },
    {
      "cell_type": "code",
      "source": [
        "# Last updated column\n",
        "play_store_data['Last Updated'] = pd.to_datetime(play_store_data['Last Updated'])"
      ],
      "metadata": {
        "id": "eBk6xZnoDtgy"
      },
      "execution_count": null,
      "outputs": []
    },
    {
      "cell_type": "code",
      "source": [
        "# creating new column\n",
        "play_store_data['Updated Month'] = pd.to_datetime(play_store_data['Last Updated']).dt.month"
      ],
      "metadata": {
        "id": "5sfMNSDeC-7R"
      },
      "execution_count": null,
      "outputs": []
    },
    {
      "cell_type": "code",
      "source": [
        "# updated month\n",
        "play_store_data['Updated Month'] = pd.to_datetime(play_store_data['Updated Month'])"
      ],
      "metadata": {
        "id": "E1RqyyF1ddvD"
      },
      "execution_count": null,
      "outputs": []
    },
    {
      "cell_type": "code",
      "source": [
        "# dropping duplicates\n",
        "play_store_data.drop_duplicates(inplace=True)"
      ],
      "metadata": {
        "id": "SfmBoGqW759b"
      },
      "execution_count": null,
      "outputs": []
    },
    {
      "cell_type": "code",
      "source": [
        "# reset index\n",
        "play_store_data.reset_index(drop=True,inplace=True)"
      ],
      "metadata": {
        "id": "PJtJT9fx8M2D"
      },
      "execution_count": null,
      "outputs": []
    },
    {
      "cell_type": "markdown",
      "source": [
        "## What all manipulations have you done and insights you found?"
      ],
      "metadata": {
        "id": "JiT6WE1h7VGl"
      }
    },
    {
      "cell_type": "markdown",
      "source": [
        "The 'Price' column had an additional ‘$’ sign for every paid app that was visible clearly once we used the value_counts() function. This resulted in the column being treated as an object instead of a float-type value.\n",
        "\n",
        "In 'Installs' column the values contain both the ‘,’ and ‘+’ symbols, which led to this misrepresentation as an object type.\n",
        "\n",
        "'Reviews' column had No issues and was convert it into an int type.\n",
        "\n",
        "The 'Last Updated' column has the data type as an object, I converted it to datetime format and created a new column 'Updated Month' for analysis.\n",
        "\n",
        "I use drop_duplicates function to drop the duplicate values and reset the index using reset_index function."
      ],
      "metadata": {
        "id": "pVuYKObd7joa"
      }
    },
    {
      "cell_type": "markdown",
      "source": [
        "## ***4. Data Vizualization, Storytelling & Experimenting with charts : Understand the relationships between variables***\n"
      ],
      "metadata": {
        "id": "nlAQhK7b-Caf"
      }
    },
    {
      "cell_type": "markdown",
      "source": [
        "## Chart - 1"
      ],
      "metadata": {
        "id": "-KXsy2E8-YiF"
      }
    },
    {
      "cell_type": "markdown",
      "source": [
        "Outliers Analysis with Box Plot"
      ],
      "metadata": {
        "id": "2T-c-XcZG6QV"
      }
    },
    {
      "cell_type": "code",
      "source": [
        "# Chart - 1 visualization code\n",
        "plt.boxplot(play_store_data['Price'])\n",
        "plt.title('Price Box Plot')\n",
        "plt.xlabel('Price')\n",
        "plt.show()"
      ],
      "metadata": {
        "colab": {
          "base_uri": "https://localhost:8080/",
          "height": 472
        },
        "id": "JNDpGY55B5XY",
        "outputId": "a04ab89a-6b61-4235-a121-55f8db3f3930"
      },
      "execution_count": null,
      "outputs": [
        {
          "output_type": "display_data",
          "data": {
            "text/plain": [
              "<Figure size 640x480 with 1 Axes>"
            ],
            "image/png": "[encoded data removed]"
          },
          "metadata": {}
        }
      ]
    },
    {
      "cell_type": "code",
      "source": [
        "# checking out the records with more than 30 dollar price\n",
        "play_store_data[play_store_data['Price']>30]"
      ],
      "metadata": {
        "id": "tfOi8yk9c7Tp",
        "colab": {
          "base_uri": "https://localhost:8080/",
          "height": 1000
        },
        "outputId": "7667abcb-8bd8-415a-eceb-fef0be56bf42"
      },
      "execution_count": null,
      "outputs": [
        {
          "output_type": "execute_result",
          "data": {
            "text/plain": [
              "                                 App   Category  Rating  Reviews  Size  \\\n",
              "1912       Vargo Anesthesia Mega App    MEDICAL     4.6       92   32M   \n",
              "1957         A Manual of Acupuncture    MEDICAL     3.5      214   68M   \n",
              "2049                    LTC AS Legal    MEDICAL     4.0        6  1.3M   \n",
              "3591          most expensive app (H)     FAMILY     4.3        6  1.5M   \n",
              "3742                      💎 I'm rich  LIFESTYLE     3.8      718   26M   \n",
              "3747        I'm Rich - Trump Edition  LIFESTYLE     3.6      275  7.3M   \n",
              "4594                       I am rich  LIFESTYLE     3.8     3547  1.8M   \n",
              "4597                  I am Rich Plus     FAMILY     4.0      856  8.7M   \n",
              "4598                   I am rich VIP  LIFESTYLE     3.8      411  2.6M   \n",
              "4599               I Am Rich Premium    FINANCE     4.1     1867  4.7M   \n",
              "4600             I am extremely Rich  LIFESTYLE     2.9       41  2.9M   \n",
              "4601                      I am Rich!    FINANCE     3.8       93   22M   \n",
              "4602              I am rich(premium)    FINANCE     3.5      472  965k   \n",
              "4603                I am Rich Person  LIFESTYLE     4.2      134  1.8M   \n",
              "4605                   I Am Rich Pro     FAMILY     4.4      201  2.7M   \n",
              "4607  I am rich (Most expensive app)    FINANCE     4.1      129  2.7M   \n",
              "4609                       I Am Rich     FAMILY     3.6      217  4.9M   \n",
              "4612                       I am Rich    FINANCE     4.3      180  3.8M   \n",
              "4616              I AM RICH PRO PLUS    FINANCE     4.0       36   41M   \n",
              "\n",
              "      Installs  Type   Price Content Rating         Genres Last Updated  \\\n",
              "1912      1000  Paid   79.99       Everyone        Medical   2018-06-18   \n",
              "1957      1000  Paid   33.99       Everyone        Medical   2017-10-02   \n",
              "2049       100  Paid   39.99       Everyone        Medical   2018-04-04   \n",
              "3591       100  Paid  399.99       Everyone  Entertainment   2018-07-16   \n",
              "3742     10000  Paid  399.99       Everyone      Lifestyle   2018-03-11   \n",
              "3747     10000  Paid  400.00       Everyone      Lifestyle   2018-05-03   \n",
              "4594    100000  Paid  399.99       Everyone      Lifestyle   2018-01-12   \n",
              "4597     10000  Paid  399.99       Everyone  Entertainment   2018-05-19   \n",
              "4598     10000  Paid  299.99       Everyone      Lifestyle   2018-07-21   \n",
              "4599     50000  Paid  399.99       Everyone        Finance   2017-11-12   \n",
              "4600      1000  Paid  379.99       Everyone      Lifestyle   2018-07-01   \n",
              "4601      1000  Paid  399.99       Everyone        Finance   2017-12-11   \n",
              "4602      5000  Paid  399.99       Everyone        Finance   2017-05-01   \n",
              "4603      1000  Paid   37.99       Everyone      Lifestyle   2017-07-18   \n",
              "4605      5000  Paid  399.99       Everyone  Entertainment   2017-05-30   \n",
              "4607      1000  Paid  399.99           Teen        Finance   2017-12-06   \n",
              "4609     10000  Paid  389.99       Everyone  Entertainment   2018-06-22   \n",
              "4612      5000  Paid  399.99       Everyone        Finance   2018-03-22   \n",
              "4616      1000  Paid  399.99       Everyone        Finance   2018-06-25   \n",
              "\n",
              "     Current Ver   Android Ver                 Updated Month  \n",
              "1912        19.0  4.0.3 and up 1970-01-01 00:00:00.000000006  \n",
              "1957      2.1.35    4.0 and up 1970-01-01 00:00:00.000000010  \n",
              "2049       3.0.1    4.1 and up 1970-01-01 00:00:00.000000004  \n",
              "3591         1.0    7.0 and up 1970-01-01 00:00:00.000000007  \n",
              "3742       1.0.0    4.4 and up 1970-01-01 00:00:00.000000003  \n",
              "3747       1.0.1    4.1 and up 1970-01-01 00:00:00.000000005  \n",
              "4594         2.0  4.0.3 and up 1970-01-01 00:00:00.000000001  \n",
              "4597         3.0    4.4 and up 1970-01-01 00:00:00.000000005  \n",
              "4598       1.1.1    4.3 and up 1970-01-01 00:00:00.000000007  \n",
              "4599         1.6    4.0 and up 1970-01-01 00:00:00.000000011  \n",
              "4600         1.0    4.0 and up 1970-01-01 00:00:00.000000007  \n",
              "4601         1.0    4.1 and up 1970-01-01 00:00:00.000000012  \n",
              "4602         3.4    4.4 and up 1970-01-01 00:00:00.000000005  \n",
              "4603         1.0  4.0.3 and up 1970-01-01 00:00:00.000000007  \n",
              "4605        1.54    1.6 and up 1970-01-01 00:00:00.000000005  \n",
              "4607           2  4.0.3 and up 1970-01-01 00:00:00.000000012  \n",
              "4609         1.5    4.2 and up 1970-01-01 00:00:00.000000006  \n",
              "4612         1.0    4.2 and up 1970-01-01 00:00:00.000000003  \n",
              "4616       1.0.2    4.1 and up 1970-01-01 00:00:00.000000006  "
            ],
            "text/html": [
              "\n",
              "  <div id=\"df-e9c669e2-cc2d-4b8f-8b20-87d45a02c31b\">\n",
              "    <div class=\"colab-df-container\">\n",
              "      <div>\n",
              "<style scoped>\n",
              "    .dataframe tbody tr th:only-of-type {\n",
              "        vertical-align: middle;\n",
              "    }\n",
              "\n",
              "    .dataframe tbody tr th {\n",
              "        vertical-align: top;\n",
              "    }\n",
              "\n",
              "    .dataframe thead th {\n",
              "        text-align: right;\n",
              "    }\n",
              "</style>\n",
              "<table border=\"1\" class=\"dataframe\">\n",
              "  <thead>\n",
              "    <tr style=\"text-align: right;\">\n",
              "      <th></th>\n",
              "      <th>App</th>\n",
              "      <th>Category</th>\n",
              "      <th>Rating</th>\n",
              "      <th>Reviews</th>\n",
              "      <th>Size</th>\n",
              "      <th>Installs</th>\n",
              "      <th>Type</th>\n",
              "      <th>Price</th>\n",
              "      <th>Content Rating</th>\n",
              "      <th>Genres</th>\n",
              "      <th>Last Updated</th>\n",
              "      <th>Current Ver</th>\n",
              "      <th>Android Ver</th>\n",
              "      <th>Updated Month</th>\n",
              "    </tr>\n",
              "  </thead>\n",
              "  <tbody>\n",
              "    <tr>\n",
              "      <th>1912</th>\n",
              "      <td>Vargo Anesthesia Mega App</td>\n",
              "      <td>MEDICAL</td>\n",
              "      <td>4.6</td>\n",
              "      <td>92</td>\n",
              "      <td>32M</td>\n",
              "      <td>1000</td>\n",
              "      <td>Paid</td>\n",
              "      <td>79.99</td>\n",
              "      <td>Everyone</td>\n",
              "      <td>Medical</td>\n",
              "      <td>2018-06-18</td>\n",
              "      <td>19.0</td>\n",
              "      <td>4.0.3 and up</td>\n",
              "      <td>1970-01-01 00:00:00.000000006</td>\n",
              "    </tr>\n",
              "    <tr>\n",
              "      <th>1957</th>\n",
              "      <td>A Manual of Acupuncture</td>\n",
              "      <td>MEDICAL</td>\n",
              "      <td>3.5</td>\n",
              "      <td>214</td>\n",
              "      <td>68M</td>\n",
              "      <td>1000</td>\n",
              "      <td>Paid</td>\n",
              "      <td>33.99</td>\n",
              "      <td>Everyone</td>\n",
              "      <td>Medical</td>\n",
              "      <td>2017-10-02</td>\n",
              "      <td>2.1.35</td>\n",
              "      <td>4.0 and up</td>\n",
              "      <td>1970-01-01 00:00:00.000000010</td>\n",
              "    </tr>\n",
              "    <tr>\n",
              "      <th>2049</th>\n",
              "      <td>LTC AS Legal</td>\n",
              "      <td>MEDICAL</td>\n",
              "      <td>4.0</td>\n",
              "      <td>6</td>\n",
              "      <td>1.3M</td>\n",
              "      <td>100</td>\n",
              "      <td>Paid</td>\n",
              "      <td>39.99</td>\n",
              "      <td>Everyone</td>\n",
              "      <td>Medical</td>\n",
              "      <td>2018-04-04</td>\n",
              "      <td>3.0.1</td>\n",
              "      <td>4.1 and up</td>\n",
              "      <td>1970-01-01 00:00:00.000000004</td>\n",
              "    </tr>\n",
              "    <tr>\n",
              "      <th>3591</th>\n",
              "      <td>most expensive app (H)</td>\n",
              "      <td>FAMILY</td>\n",
              "      <td>4.3</td>\n",
              "      <td>6</td>\n",
              "      <td>1.5M</td>\n",
              "      <td>100</td>\n",
              "      <td>Paid</td>\n",
              "      <td>399.99</td>\n",
              "      <td>Everyone</td>\n",
              "      <td>Entertainment</td>\n",
              "      <td>2018-07-16</td>\n",
              "      <td>1.0</td>\n",
              "      <td>7.0 and up</td>\n",
              "      <td>1970-01-01 00:00:00.000000007</td>\n",
              "    </tr>\n",
              "    <tr>\n",
              "      <th>3742</th>\n",
              "      <td>💎 I'm rich</td>\n",
              "      <td>LIFESTYLE</td>\n",
              "      <td>3.8</td>\n",
              "      <td>718</td>\n",
              "      <td>26M</td>\n",
              "      <td>10000</td>\n",
              "      <td>Paid</td>\n",
              "      <td>399.99</td>\n",
              "      <td>Everyone</td>\n",
              "      <td>Lifestyle</td>\n",
              "      <td>2018-03-11</td>\n",
              "      <td>1.0.0</td>\n",
              "      <td>4.4 and up</td>\n",
              "      <td>1970-01-01 00:00:00.000000003</td>\n",
              "    </tr>\n",
              "    <tr>\n",
              "      <th>3747</th>\n",
              "      <td>I'm Rich - Trump Edition</td>\n",
              "      <td>LIFESTYLE</td>\n",
              "      <td>3.6</td>\n",
              "      <td>275</td>\n",
              "      <td>7.3M</td>\n",
              "      <td>10000</td>\n",
              "      <td>Paid</td>\n",
              "      <td>400.00</td>\n",
              "      <td>Everyone</td>\n",
              "      <td>Lifestyle</td>\n",
              "      <td>2018-05-03</td>\n",
              "      <td>1.0.1</td>\n",
              "      <td>4.1 and up</td>\n",
              "      <td>1970-01-01 00:00:00.000000005</td>\n",
              "    </tr>\n",
              "    <tr>\n",
              "      <th>4594</th>\n",
              "      <td>I am rich</td>\n",
              "      <td>LIFESTYLE</td>\n",
              "      <td>3.8</td>\n",
              "      <td>3547</td>\n",
              "      <td>1.8M</td>\n",
              "      <td>100000</td>\n",
              "      <td>Paid</td>\n",
              "      <td>399.99</td>\n",
              "      <td>Everyone</td>\n",
              "      <td>Lifestyle</td>\n",
              "      <td>2018-01-12</td>\n",
              "      <td>2.0</td>\n",
              "      <td>4.0.3 and up</td>\n",
              "      <td>1970-01-01 00:00:00.000000001</td>\n",
              "    </tr>\n",
              "    <tr>\n",
              "      <th>4597</th>\n",
              "      <td>I am Rich Plus</td>\n",
              "      <td>FAMILY</td>\n",
              "      <td>4.0</td>\n",
              "      <td>856</td>\n",
              "      <td>8.7M</td>\n",
              "      <td>10000</td>\n",
              "      <td>Paid</td>\n",
              "      <td>399.99</td>\n",
              "      <td>Everyone</td>\n",
              "      <td>Entertainment</td>\n",
              "      <td>2018-05-19</td>\n",
              "      <td>3.0</td>\n",
              "      <td>4.4 and up</td>\n",
              "      <td>1970-01-01 00:00:00.000000005</td>\n",
              "    </tr>\n",
              "    <tr>\n",
              "      <th>4598</th>\n",
              "      <td>I am rich VIP</td>\n",
              "      <td>LIFESTYLE</td>\n",
              "      <td>3.8</td>\n",
              "      <td>411</td>\n",
              "      <td>2.6M</td>\n",
              "      <td>10000</td>\n",
              "      <td>Paid</td>\n",
              "      <td>299.99</td>\n",
              "      <td>Everyone</td>\n",
              "      <td>Lifestyle</td>\n",
              "      <td>2018-07-21</td>\n",
              "      <td>1.1.1</td>\n",
              "      <td>4.3 and up</td>\n",
              "      <td>1970-01-01 00:00:00.000000007</td>\n",
              "    </tr>\n",
              "    <tr>\n",
              "      <th>4599</th>\n",
              "      <td>I Am Rich Premium</td>\n",
              "      <td>FINANCE</td>\n",
              "      <td>4.1</td>\n",
              "      <td>1867</td>\n",
              "      <td>4.7M</td>\n",
              "      <td>50000</td>\n",
              "      <td>Paid</td>\n",
              "      <td>399.99</td>\n",
              "      <td>Everyone</td>\n",
              "      <td>Finance</td>\n",
              "      <td>2017-11-12</td>\n",
              "      <td>1.6</td>\n",
              "      <td>4.0 and up</td>\n",
              "      <td>1970-01-01 00:00:00.000000011</td>\n",
              "    </tr>\n",
              "    <tr>\n",
              "      <th>4600</th>\n",
              "      <td>I am extremely Rich</td>\n",
              "      <td>LIFESTYLE</td>\n",
              "      <td>2.9</td>\n",
              "      <td>41</td>\n",
              "      <td>2.9M</td>\n",
              "      <td>1000</td>\n",
              "      <td>Paid</td>\n",
              "      <td>379.99</td>\n",
              "      <td>Everyone</td>\n",
              "      <td>Lifestyle</td>\n",
              "      <td>2018-07-01</td>\n",
              "      <td>1.0</td>\n",
              "      <td>4.0 and up</td>\n",
              "      <td>1970-01-01 00:00:00.000000007</td>\n",
              "    </tr>\n",
              "    <tr>\n",
              "      <th>4601</th>\n",
              "      <td>I am Rich!</td>\n",
              "      <td>FINANCE</td>\n",
              "      <td>3.8</td>\n",
              "      <td>93</td>\n",
              "      <td>22M</td>\n",
              "      <td>1000</td>\n",
              "      <td>Paid</td>\n",
              "      <td>399.99</td>\n",
              "      <td>Everyone</td>\n",
              "      <td>Finance</td>\n",
              "      <td>2017-12-11</td>\n",
              "      <td>1.0</td>\n",
              "      <td>4.1 and up</td>\n",
              "      <td>1970-01-01 00:00:00.000000012</td>\n",
              "    </tr>\n",
              "    <tr>\n",
              "      <th>4602</th>\n",
              "      <td>I am rich(premium)</td>\n",
              "      <td>FINANCE</td>\n",
              "      <td>3.5</td>\n",
              "      <td>472</td>\n",
              "      <td>965k</td>\n",
              "      <td>5000</td>\n",
              "      <td>Paid</td>\n",
              "      <td>399.99</td>\n",
              "      <td>Everyone</td>\n",
              "      <td>Finance</td>\n",
              "      <td>2017-05-01</td>\n",
              "      <td>3.4</td>\n",
              "      <td>4.4 and up</td>\n",
              "      <td>1970-01-01 00:00:00.000000005</td>\n",
              "    </tr>\n",
              "    <tr>\n",
              "      <th>4603</th>\n",
              "      <td>I am Rich Person</td>\n",
              "      <td>LIFESTYLE</td>\n",
              "      <td>4.2</td>\n",
              "      <td>134</td>\n",
              "      <td>1.8M</td>\n",
              "      <td>1000</td>\n",
              "      <td>Paid</td>\n",
              "      <td>37.99</td>\n",
              "      <td>Everyone</td>\n",
              "      <td>Lifestyle</td>\n",
              "      <td>2017-07-18</td>\n",
              "      <td>1.0</td>\n",
              "      <td>4.0.3 and up</td>\n",
              "      <td>1970-01-01 00:00:00.000000007</td>\n",
              "    </tr>\n",
              "    <tr>\n",
              "      <th>4605</th>\n",
              "      <td>I Am Rich Pro</td>\n",
              "      <td>FAMILY</td>\n",
              "      <td>4.4</td>\n",
              "      <td>201</td>\n",
              "      <td>2.7M</td>\n",
              "      <td>5000</td>\n",
              "      <td>Paid</td>\n",
              "      <td>399.99</td>\n",
              "      <td>Everyone</td>\n",
              "      <td>Entertainment</td>\n",
              "      <td>2017-05-30</td>\n",
              "      <td>1.54</td>\n",
              "      <td>1.6 and up</td>\n",
              "      <td>1970-01-01 00:00:00.000000005</td>\n",
              "    </tr>\n",
              "    <tr>\n",
              "      <th>4607</th>\n",
              "      <td>I am rich (Most expensive app)</td>\n",
              "      <td>FINANCE</td>\n",
              "      <td>4.1</td>\n",
              "      <td>129</td>\n",
              "      <td>2.7M</td>\n",
              "      <td>1000</td>\n",
              "      <td>Paid</td>\n",
              "      <td>399.99</td>\n",
              "      <td>Teen</td>\n",
              "      <td>Finance</td>\n",
              "      <td>2017-12-06</td>\n",
              "      <td>2</td>\n",
              "      <td>4.0.3 and up</td>\n",
              "      <td>1970-01-01 00:00:00.000000012</td>\n",
              "    </tr>\n",
              "    <tr>\n",
              "      <th>4609</th>\n",
              "      <td>I Am Rich</td>\n",
              "      <td>FAMILY</td>\n",
              "      <td>3.6</td>\n",
              "      <td>217</td>\n",
              "      <td>4.9M</td>\n",
              "      <td>10000</td>\n",
              "      <td>Paid</td>\n",
              "      <td>389.99</td>\n",
              "      <td>Everyone</td>\n",
              "      <td>Entertainment</td>\n",
              "      <td>2018-06-22</td>\n",
              "      <td>1.5</td>\n",
              "      <td>4.2 and up</td>\n",
              "      <td>1970-01-01 00:00:00.000000006</td>\n",
              "    </tr>\n",
              "    <tr>\n",
              "      <th>4612</th>\n",
              "      <td>I am Rich</td>\n",
              "      <td>FINANCE</td>\n",
              "      <td>4.3</td>\n",
              "      <td>180</td>\n",
              "      <td>3.8M</td>\n",
              "      <td>5000</td>\n",
              "      <td>Paid</td>\n",
              "      <td>399.99</td>\n",
              "      <td>Everyone</td>\n",
              "      <td>Finance</td>\n",
              "      <td>2018-03-22</td>\n",
              "      <td>1.0</td>\n",
              "      <td>4.2 and up</td>\n",
              "      <td>1970-01-01 00:00:00.000000003</td>\n",
              "    </tr>\n",
              "    <tr>\n",
              "      <th>4616</th>\n",
              "      <td>I AM RICH PRO PLUS</td>\n",
              "      <td>FINANCE</td>\n",
              "      <td>4.0</td>\n",
              "      <td>36</td>\n",
              "      <td>41M</td>\n",
              "      <td>1000</td>\n",
              "      <td>Paid</td>\n",
              "      <td>399.99</td>\n",
              "      <td>Everyone</td>\n",
              "      <td>Finance</td>\n",
              "      <td>2018-06-25</td>\n",
              "      <td>1.0.2</td>\n",
              "      <td>4.1 and up</td>\n",
              "      <td>1970-01-01 00:00:00.000000006</td>\n",
              "    </tr>\n",
              "  </tbody>\n",
              "</table>\n",
              "</div>\n",
              "      <button class=\"colab-df-convert\" onclick=\"convertToInteractive('df-e9c669e2-cc2d-4b8f-8b20-87d45a02c31b')\"\n",
              "              title=\"Convert this dataframe to an interactive table.\"\n",
              "              style=\"display:none;\">\n",
              "        \n",
              "  <svg xmlns=\"http://www.w3.org/2000/svg\" height=\"24px\"viewBox=\"0 0 24 24\"\n",
              "       width=\"24px\">\n",
              "    <path d=\"M0 0h24v24H0V0z\" fill=\"none\"/>\n",
              "    <path d=\"M18.56 5.44l.94 2.06.94-2.06 2.06-.94-2.06-.94-.94-2.06-.94 2.06-2.06.94zm-11 1L8.5 8.5l.94-2.06 2.06-.94-2.06-.94L8.5 2.5l-.94 2.06-2.06.94zm10 10l.94 2.06.94-2.06 2.06-.94-2.06-.94-.94-2.06-.94 2.06-2.06.94z\"/><path d=\"M17.41 7.96l-1.37-1.37c-.4-.4-.92-.59-1.43-.59-.52 0-1.04.2-1.43.59L10.3 9.45l-7.72 7.72c-.78.78-.78 2.05 0 2.83L4 21.41c.39.39.9.59 1.41.59.51 0 1.02-.2 1.41-.59l7.78-7.78 2.81-2.81c.8-.78.8-2.07 0-2.86zM5.41 20L4 18.59l7.72-7.72 1.47 1.35L5.41 20z\"/>\n",
              "  </svg>\n",
              "      </button>\n",
              "      \n",
              "  <style>\n",
              "    .colab-df-container {\n",
              "      display:flex;\n",
              "      flex-wrap:wrap;\n",
              "      gap: 12px;\n",
              "    }\n",
              "\n",
              "    .colab-df-convert {\n",
              "      background-color: #E8F0FE;\n",
              "      border: none;\n",
              "      border-radius: 50%;\n",
              "      cursor: pointer;\n",
              "      display: none;\n",
              "      fill: #1967D2;\n",
              "      height: 32px;\n",
              "      padding: 0 0 0 0;\n",
              "      width: 32px;\n",
              "    }\n",
              "\n",
              "    .colab-df-convert:hover {\n",
              "      background-color: #E2EBFA;\n",
              "      box-shadow: 0px 1px 2px rgba(60, 64, 67, 0.3), 0px 1px 3px 1px rgba(60, 64, 67, 0.15);\n",
              "      fill: #174EA6;\n",
              "    }\n",
              "\n",
              "    [theme=dark] .colab-df-convert {\n",
              "      background-color: #3B4455;\n",
              "      fill: #D2E3FC;\n",
              "    }\n",
              "\n",
              "    [theme=dark] .colab-df-convert:hover {\n",
              "      background-color: #434B5C;\n",
              "      box-shadow: 0px 1px 3px 1px rgba(0, 0, 0, 0.15);\n",
              "      filter: drop-shadow(0px 1px 2px rgba(0, 0, 0, 0.3));\n",
              "      fill: #FFFFFF;\n",
              "    }\n",
              "  </style>\n",
              "\n",
              "      <script>\n",
              "        const buttonEl =\n",
              "          document.querySelector('#df-e9c669e2-cc2d-4b8f-8b20-87d45a02c31b button.colab-df-convert');\n",
              "        buttonEl.style.display =\n",
              "          google.colab.kernel.accessAllowed ? 'block' : 'none';\n",
              "\n",
              "        async function convertToInteractive(key) {\n",
              "          const element = document.querySelector('#df-e9c669e2-cc2d-4b8f-8b20-87d45a02c31b');\n",
              "          const dataTable =\n",
              "            await google.colab.kernel.invokeFunction('convertToInteractive',\n",
              "                                                     [key], {});\n",
              "          if (!dataTable) return;\n",
              "\n",
              "          const docLinkHtml = 'Like what you see? Visit the ' +\n",
              "            '<a target=\"_blank\" href=https://colab.research.google.com/notebooks/data_table.ipynb>data table notebook</a>'\n",
              "            + ' to learn more about interactive tables.';\n",
              "          element.innerHTML = '';\n",
              "          dataTable['output_type'] = 'display_data';\n",
              "          await google.colab.output.renderOutput(dataTable, element);\n",
              "          const docLink = document.createElement('div');\n",
              "          docLink.innerHTML = docLinkHtml;\n",
              "          element.appendChild(docLink);\n",
              "        }\n",
              "      </script>\n",
              "    </div>\n",
              "  </div>\n",
              "  "
            ]
          },
          "metadata": {},
          "execution_count": 35
        }
      ]
    },
    {
      "cell_type": "code",
      "source": [
        "# drop records having more than 30 dollar price\n",
        "play_store_data = play_store_data[play_store_data['Price']<30]"
      ],
      "metadata": {
        "id": "m82NPGbHCHdc"
      },
      "execution_count": null,
      "outputs": []
    },
    {
      "cell_type": "markdown",
      "source": [
        "### 1. Why did you pick the specific chart?"
      ],
      "metadata": {
        "id": "mYhdjWfSH6xW"
      }
    },
    {
      "cell_type": "markdown",
      "source": [
        "I used boxplot to check for outliers in the 'Price' column because box plot type plots are used to easily detect outliers.\n",
        "\n"
      ],
      "metadata": {
        "id": "2SUQ7x--IXrU"
      }
    },
    {
      "cell_type": "markdown",
      "source": [
        "### 2. What is/are the insight(s) found from the chart?"
      ],
      "metadata": {
        "id": "m01mBecAIuXF"
      }
    },
    {
      "cell_type": "markdown",
      "source": [
        "There are outliers in the 'Price' column. So, I removed the price greater than 30."
      ],
      "metadata": {
        "id": "NTLfabJpJCzO"
      }
    },
    {
      "cell_type": "markdown",
      "source": [
        "### 3. Will the gained insights help creating a positive business impact?\n",
        "Are there any insights that lead to negative growth? Justify with specific reason."
      ],
      "metadata": {
        "id": "UkTkl76nJF6L"
      }
    },
    {
      "cell_type": "markdown",
      "source": [
        "Removing outliers in the 'Price' column can help ensure that the majority of your app's pricing falls within a reasonable range."
      ],
      "metadata": {
        "id": "HtPlTZBLJgPH"
      }
    },
    {
      "cell_type": "markdown",
      "source": [
        "## Chart - 2"
      ],
      "metadata": {
        "id": "tnZjKPAIKsuk"
      }
    },
    {
      "cell_type": "code",
      "source": [
        "# Chart - 2 visualization code\n",
        "plt.boxplot(play_store_data['Reviews'])\n",
        "plt.title(\"Reviews Box Plot\")\n",
        "plt.xlabel('Reviews')\n",
        "plt.show()"
      ],
      "metadata": {
        "colab": {
          "base_uri": "https://localhost:8080/",
          "height": 472
        },
        "id": "ayRySNb3B5J7",
        "outputId": "5be491eb-f181-4776-b7a9-5cbcc087cef4"
      },
      "execution_count": null,
      "outputs": [
        {
          "output_type": "display_data",
          "data": {
            "text/plain": [
              "<Figure size 640x480 with 1 Axes>"
            ],
            "image/png": "[encoded data removed]"
          },
          "metadata": {}
        }
      ]
    },
    {
      "cell_type": "code",
      "source": [
        "# checking out the records with more than 10 million reviews\n",
        "play_store_data[play_store_data['Reviews']>10000000]"
      ],
      "metadata": {
        "colab": {
          "base_uri": "https://localhost:8080/",
          "height": 1000
        },
        "id": "K37FcyX1B5Fj",
        "outputId": "93785521-b11e-4fc9-d592-1f3452613e34"
      },
      "execution_count": null,
      "outputs": [
        {
          "output_type": "execute_result",
          "data": {
            "text/plain": [
              "                                                    App       Category  \\\n",
              "289            Messenger – Text and Video Chat for Free  COMMUNICATION   \n",
              "290                                  WhatsApp Messenger  COMMUNICATION   \n",
              "296                                     Viber Messenger  COMMUNICATION   \n",
              "332         UC Browser - Fast Download Private & Secure  COMMUNICATION   \n",
              "335            Messenger – Text and Video Chat for Free  COMMUNICATION   \n",
              "...                                                 ...            ...   \n",
              "5506                        BBM - Free Calls & Messages  COMMUNICATION   \n",
              "6260  Security Master - Antivirus, VPN, AppLock, Boo...          TOOLS   \n",
              "6607                                     Shadow Fight 2           GAME   \n",
              "7385  Cache Cleaner-DU Speed Booster (booster & clea...          TOOLS   \n",
              "7387  DU Battery Saver - Battery Charger & Battery Life          TOOLS   \n",
              "\n",
              "      Rating   Reviews                Size    Installs  Type  Price  \\\n",
              "289      4.0  56642847  Varies with device  1000000000  Free    0.0   \n",
              "290      4.4  69119316  Varies with device  1000000000  Free    0.0   \n",
              "296      4.3  11334799  Varies with device   500000000  Free    0.0   \n",
              "332      4.5  17712922                 40M   500000000  Free    0.0   \n",
              "335      4.0  56646578  Varies with device  1000000000  Free    0.0   \n",
              "...      ...       ...                 ...         ...   ...    ...   \n",
              "5506     4.3  12843436  Varies with device   100000000  Free    0.0   \n",
              "6260     4.7  24900999  Varies with device   500000000  Free    0.0   \n",
              "6607     4.6  10981850                 88M   100000000  Free    0.0   \n",
              "7385     4.5  12759815                 15M   100000000  Free    0.0   \n",
              "7387     4.5  13479633                 14M   100000000  Free    0.0   \n",
              "\n",
              "     Content Rating         Genres Last Updated         Current Ver  \\\n",
              "289        Everyone  Communication   2018-08-01  Varies with device   \n",
              "290        Everyone  Communication   2018-08-03  Varies with device   \n",
              "296        Everyone  Communication   2018-07-18  Varies with device   \n",
              "332            Teen  Communication   2018-08-02         12.8.5.1121   \n",
              "335        Everyone  Communication   2018-08-01  Varies with device   \n",
              "...             ...            ...          ...                 ...   \n",
              "5506       Everyone  Communication   2018-08-02  Varies with device   \n",
              "6260       Everyone          Tools   2018-08-04               4.6.6   \n",
              "6607   Everyone 10+         Action   2018-07-02              1.9.38   \n",
              "7385       Everyone          Tools   2018-07-25               3.1.2   \n",
              "7387       Everyone          Tools   2018-06-05             4.8.7.8   \n",
              "\n",
              "             Android Ver                 Updated Month  \n",
              "289   Varies with device 1970-01-01 00:00:00.000000008  \n",
              "290   Varies with device 1970-01-01 00:00:00.000000008  \n",
              "296   Varies with device 1970-01-01 00:00:00.000000007  \n",
              "332           4.0 and up 1970-01-01 00:00:00.000000008  \n",
              "335   Varies with device 1970-01-01 00:00:00.000000008  \n",
              "...                  ...                           ...  \n",
              "5506        4.0.3 and up 1970-01-01 00:00:00.000000008  \n",
              "6260  Varies with device 1970-01-01 00:00:00.000000008  \n",
              "6607          3.0 and up 1970-01-01 00:00:00.000000007  \n",
              "7385          4.0 and up 1970-01-01 00:00:00.000000007  \n",
              "7387          4.0 and up 1970-01-01 00:00:00.000000006  \n",
              "\n",
              "[78 rows x 14 columns]"
            ],
            "text/html": [
              "\n",
              "  <div id=\"df-2ae8aad8-0d44-40de-9d0c-1be24d44e0a1\">\n",
              "    <div class=\"colab-df-container\">\n",
              "      <div>\n",
              "<style scoped>\n",
              "    .dataframe tbody tr th:only-of-type {\n",
              "        vertical-align: middle;\n",
              "    }\n",
              "\n",
              "    .dataframe tbody tr th {\n",
              "        vertical-align: top;\n",
              "    }\n",
              "\n",
              "    .dataframe thead th {\n",
              "        text-align: right;\n",
              "    }\n",
              "</style>\n",
              "<table border=\"1\" class=\"dataframe\">\n",
              "  <thead>\n",
              "    <tr style=\"text-align: right;\">\n",
              "      <th></th>\n",
              "      <th>App</th>\n",
              "      <th>Category</th>\n",
              "      <th>Rating</th>\n",
              "      <th>Reviews</th>\n",
              "      <th>Size</th>\n",
              "      <th>Installs</th>\n",
              "      <th>Type</th>\n",
              "      <th>Price</th>\n",
              "      <th>Content Rating</th>\n",
              "      <th>Genres</th>\n",
              "      <th>Last Updated</th>\n",
              "      <th>Current Ver</th>\n",
              "      <th>Android Ver</th>\n",
              "      <th>Updated Month</th>\n",
              "    </tr>\n",
              "  </thead>\n",
              "  <tbody>\n",
              "    <tr>\n",
              "      <th>289</th>\n",
              "      <td>Messenger – Text and Video Chat for Free</td>\n",
              "      <td>COMMUNICATION</td>\n",
              "      <td>4.0</td>\n",
              "      <td>56642847</td>\n",
              "      <td>Varies with device</td>\n",
              "      <td>1000000000</td>\n",
              "      <td>Free</td>\n",
              "      <td>0.0</td>\n",
              "      <td>Everyone</td>\n",
              "      <td>Communication</td>\n",
              "      <td>2018-08-01</td>\n",
              "      <td>Varies with device</td>\n",
              "      <td>Varies with device</td>\n",
              "      <td>1970-01-01 00:00:00.000000008</td>\n",
              "    </tr>\n",
              "    <tr>\n",
              "      <th>290</th>\n",
              "      <td>WhatsApp Messenger</td>\n",
              "      <td>COMMUNICATION</td>\n",
              "      <td>4.4</td>\n",
              "      <td>69119316</td>\n",
              "      <td>Varies with device</td>\n",
              "      <td>1000000000</td>\n",
              "      <td>Free</td>\n",
              "      <td>0.0</td>\n",
              "      <td>Everyone</td>\n",
              "      <td>Communication</td>\n",
              "      <td>2018-08-03</td>\n",
              "      <td>Varies with device</td>\n",
              "      <td>Varies with device</td>\n",
              "      <td>1970-01-01 00:00:00.000000008</td>\n",
              "    </tr>\n",
              "    <tr>\n",
              "      <th>296</th>\n",
              "      <td>Viber Messenger</td>\n",
              "      <td>COMMUNICATION</td>\n",
              "      <td>4.3</td>\n",
              "      <td>11334799</td>\n",
              "      <td>Varies with device</td>\n",
              "      <td>500000000</td>\n",
              "      <td>Free</td>\n",
              "      <td>0.0</td>\n",
              "      <td>Everyone</td>\n",
              "      <td>Communication</td>\n",
              "      <td>2018-07-18</td>\n",
              "      <td>Varies with device</td>\n",
              "      <td>Varies with device</td>\n",
              "      <td>1970-01-01 00:00:00.000000007</td>\n",
              "    </tr>\n",
              "    <tr>\n",
              "      <th>332</th>\n",
              "      <td>UC Browser - Fast Download Private &amp; Secure</td>\n",
              "      <td>COMMUNICATION</td>\n",
              "      <td>4.5</td>\n",
              "      <td>17712922</td>\n",
              "      <td>40M</td>\n",
              "      <td>500000000</td>\n",
              "      <td>Free</td>\n",
              "      <td>0.0</td>\n",
              "      <td>Teen</td>\n",
              "      <td>Communication</td>\n",
              "      <td>2018-08-02</td>\n",
              "      <td>12.8.5.1121</td>\n",
              "      <td>4.0 and up</td>\n",
              "      <td>1970-01-01 00:00:00.000000008</td>\n",
              "    </tr>\n",
              "    <tr>\n",
              "      <th>335</th>\n",
              "      <td>Messenger – Text and Video Chat for Free</td>\n",
              "      <td>COMMUNICATION</td>\n",
              "      <td>4.0</td>\n",
              "      <td>56646578</td>\n",
              "      <td>Varies with device</td>\n",
              "      <td>1000000000</td>\n",
              "      <td>Free</td>\n",
              "      <td>0.0</td>\n",
              "      <td>Everyone</td>\n",
              "      <td>Communication</td>\n",
              "      <td>2018-08-01</td>\n",
              "      <td>Varies with device</td>\n",
              "      <td>Varies with device</td>\n",
              "      <td>1970-01-01 00:00:00.000000008</td>\n",
              "    </tr>\n",
              "    <tr>\n",
              "      <th>...</th>\n",
              "      <td>...</td>\n",
              "      <td>...</td>\n",
              "      <td>...</td>\n",
              "      <td>...</td>\n",
              "      <td>...</td>\n",
              "      <td>...</td>\n",
              "      <td>...</td>\n",
              "      <td>...</td>\n",
              "      <td>...</td>\n",
              "      <td>...</td>\n",
              "      <td>...</td>\n",
              "      <td>...</td>\n",
              "      <td>...</td>\n",
              "      <td>...</td>\n",
              "    </tr>\n",
              "    <tr>\n",
              "      <th>5506</th>\n",
              "      <td>BBM - Free Calls &amp; Messages</td>\n",
              "      <td>COMMUNICATION</td>\n",
              "      <td>4.3</td>\n",
              "      <td>12843436</td>\n",
              "      <td>Varies with device</td>\n",
              "      <td>100000000</td>\n",
              "      <td>Free</td>\n",
              "      <td>0.0</td>\n",
              "      <td>Everyone</td>\n",
              "      <td>Communication</td>\n",
              "      <td>2018-08-02</td>\n",
              "      <td>Varies with device</td>\n",
              "      <td>4.0.3 and up</td>\n",
              "      <td>1970-01-01 00:00:00.000000008</td>\n",
              "    </tr>\n",
              "    <tr>\n",
              "      <th>6260</th>\n",
              "      <td>Security Master - Antivirus, VPN, AppLock, Boo...</td>\n",
              "      <td>TOOLS</td>\n",
              "      <td>4.7</td>\n",
              "      <td>24900999</td>\n",
              "      <td>Varies with device</td>\n",
              "      <td>500000000</td>\n",
              "      <td>Free</td>\n",
              "      <td>0.0</td>\n",
              "      <td>Everyone</td>\n",
              "      <td>Tools</td>\n",
              "      <td>2018-08-04</td>\n",
              "      <td>4.6.6</td>\n",
              "      <td>Varies with device</td>\n",
              "      <td>1970-01-01 00:00:00.000000008</td>\n",
              "    </tr>\n",
              "    <tr>\n",
              "      <th>6607</th>\n",
              "      <td>Shadow Fight 2</td>\n",
              "      <td>GAME</td>\n",
              "      <td>4.6</td>\n",
              "      <td>10981850</td>\n",
              "      <td>88M</td>\n",
              "      <td>100000000</td>\n",
              "      <td>Free</td>\n",
              "      <td>0.0</td>\n",
              "      <td>Everyone 10+</td>\n",
              "      <td>Action</td>\n",
              "      <td>2018-07-02</td>\n",
              "      <td>1.9.38</td>\n",
              "      <td>3.0 and up</td>\n",
              "      <td>1970-01-01 00:00:00.000000007</td>\n",
              "    </tr>\n",
              "    <tr>\n",
              "      <th>7385</th>\n",
              "      <td>Cache Cleaner-DU Speed Booster (booster &amp; clea...</td>\n",
              "      <td>TOOLS</td>\n",
              "      <td>4.5</td>\n",
              "      <td>12759815</td>\n",
              "      <td>15M</td>\n",
              "      <td>100000000</td>\n",
              "      <td>Free</td>\n",
              "      <td>0.0</td>\n",
              "      <td>Everyone</td>\n",
              "      <td>Tools</td>\n",
              "      <td>2018-07-25</td>\n",
              "      <td>3.1.2</td>\n",
              "      <td>4.0 and up</td>\n",
              "      <td>1970-01-01 00:00:00.000000007</td>\n",
              "    </tr>\n",
              "    <tr>\n",
              "      <th>7387</th>\n",
              "      <td>DU Battery Saver - Battery Charger &amp; Battery Life</td>\n",
              "      <td>TOOLS</td>\n",
              "      <td>4.5</td>\n",
              "      <td>13479633</td>\n",
              "      <td>14M</td>\n",
              "      <td>100000000</td>\n",
              "      <td>Free</td>\n",
              "      <td>0.0</td>\n",
              "      <td>Everyone</td>\n",
              "      <td>Tools</td>\n",
              "      <td>2018-06-05</td>\n",
              "      <td>4.8.7.8</td>\n",
              "      <td>4.0 and up</td>\n",
              "      <td>1970-01-01 00:00:00.000000006</td>\n",
              "    </tr>\n",
              "  </tbody>\n",
              "</table>\n",
              "<p>78 rows × 14 columns</p>\n",
              "</div>\n",
              "      <button class=\"colab-df-convert\" onclick=\"convertToInteractive('df-2ae8aad8-0d44-40de-9d0c-1be24d44e0a1')\"\n",
              "              title=\"Convert this dataframe to an interactive table.\"\n",
              "              style=\"display:none;\">\n",
              "        \n",
              "  <svg xmlns=\"http://www.w3.org/2000/svg\" height=\"24px\"viewBox=\"0 0 24 24\"\n",
              "       width=\"24px\">\n",
              "    <path d=\"M0 0h24v24H0V0z\" fill=\"none\"/>\n",
              "    <path d=\"M18.56 5.44l.94 2.06.94-2.06 2.06-.94-2.06-.94-.94-2.06-.94 2.06-2.06.94zm-11 1L8.5 8.5l.94-2.06 2.06-.94-2.06-.94L8.5 2.5l-.94 2.06-2.06.94zm10 10l.94 2.06.94-2.06 2.06-.94-2.06-.94-.94-2.06-.94 2.06-2.06.94z\"/><path d=\"M17.41 7.96l-1.37-1.37c-.4-.4-.92-.59-1.43-.59-.52 0-1.04.2-1.43.59L10.3 9.45l-7.72 7.72c-.78.78-.78 2.05 0 2.83L4 21.41c.39.39.9.59 1.41.59.51 0 1.02-.2 1.41-.59l7.78-7.78 2.81-2.81c.8-.78.8-2.07 0-2.86zM5.41 20L4 18.59l7.72-7.72 1.47 1.35L5.41 20z\"/>\n",
              "  </svg>\n",
              "      </button>\n",
              "      \n",
              "  <style>\n",
              "    .colab-df-container {\n",
              "      display:flex;\n",
              "      flex-wrap:wrap;\n",
              "      gap: 12px;\n",
              "    }\n",
              "\n",
              "    .colab-df-convert {\n",
              "      background-color: #E8F0FE;\n",
              "      border: none;\n",
              "      border-radius: 50%;\n",
              "      cursor: pointer;\n",
              "      display: none;\n",
              "      fill: #1967D2;\n",
              "      height: 32px;\n",
              "      padding: 0 0 0 0;\n",
              "      width: 32px;\n",
              "    }\n",
              "\n",
              "    .colab-df-convert:hover {\n",
              "      background-color: #E2EBFA;\n",
              "      box-shadow: 0px 1px 2px rgba(60, 64, 67, 0.3), 0px 1px 3px 1px rgba(60, 64, 67, 0.15);\n",
              "      fill: #174EA6;\n",
              "    }\n",
              "\n",
              "    [theme=dark] .colab-df-convert {\n",
              "      background-color: #3B4455;\n",
              "      fill: #D2E3FC;\n",
              "    }\n",
              "\n",
              "    [theme=dark] .colab-df-convert:hover {\n",
              "      background-color: #434B5C;\n",
              "      box-shadow: 0px 1px 3px 1px rgba(0, 0, 0, 0.15);\n",
              "      filter: drop-shadow(0px 1px 2px rgba(0, 0, 0, 0.3));\n",
              "      fill: #FFFFFF;\n",
              "    }\n",
              "  </style>\n",
              "\n",
              "      <script>\n",
              "        const buttonEl =\n",
              "          document.querySelector('#df-2ae8aad8-0d44-40de-9d0c-1be24d44e0a1 button.colab-df-convert');\n",
              "        buttonEl.style.display =\n",
              "          google.colab.kernel.accessAllowed ? 'block' : 'none';\n",
              "\n",
              "        async function convertToInteractive(key) {\n",
              "          const element = document.querySelector('#df-2ae8aad8-0d44-40de-9d0c-1be24d44e0a1');\n",
              "          const dataTable =\n",
              "            await google.colab.kernel.invokeFunction('convertToInteractive',\n",
              "                                                     [key], {});\n",
              "          if (!dataTable) return;\n",
              "\n",
              "          const docLinkHtml = 'Like what you see? Visit the ' +\n",
              "            '<a target=\"_blank\" href=https://colab.research.google.com/notebooks/data_table.ipynb>data table notebook</a>'\n",
              "            + ' to learn more about interactive tables.';\n",
              "          element.innerHTML = '';\n",
              "          dataTable['output_type'] = 'display_data';\n",
              "          await google.colab.output.renderOutput(dataTable, element);\n",
              "          const docLink = document.createElement('div');\n",
              "          docLink.innerHTML = docLinkHtml;\n",
              "          element.appendChild(docLink);\n",
              "        }\n",
              "      </script>\n",
              "    </div>\n",
              "  </div>\n",
              "  "
            ]
          },
          "metadata": {},
          "execution_count": 38
        }
      ]
    },
    {
      "cell_type": "code",
      "source": [
        "# drop records having more than 1M reviews\n",
        "play_store_data = play_store_data[play_store_data['Reviews']<=1000000]"
      ],
      "metadata": {
        "id": "d7M0jYeFB5DJ"
      },
      "execution_count": null,
      "outputs": []
    },
    {
      "cell_type": "markdown",
      "source": [
        "### 1. Why did you pick the specific chart?"
      ],
      "metadata": {
        "id": "jaPx7FLEdVaL"
      }
    },
    {
      "cell_type": "markdown",
      "source": [
        "I used boxplots to check for outliers in the 'Review' column because box plot type plots are used to easily detect outliers."
      ],
      "metadata": {
        "id": "43RdduatdYnL"
      }
    },
    {
      "cell_type": "markdown",
      "source": [
        "### 2. What is/are the insight(s) found from the chart?"
      ],
      "metadata": {
        "id": "0wihhLtReARc"
      }
    },
    {
      "cell_type": "markdown",
      "source": [
        "I found these are those super popular apps. Of course these are all real apps but right now I'm worried about which app might be promising, studying these apps won't be very useful. So the best option is to delete these records."
      ],
      "metadata": {
        "id": "wdmg9YOheCE4"
      }
    },
    {
      "cell_type": "markdown",
      "source": [
        "### 3. Will the gained insights help creating a positive business impact?\n",
        "Are there any insights that lead to negative growth? Justify with specific reason."
      ],
      "metadata": {
        "id": "6ZyoV5t3eb9R"
      }
    },
    {
      "cell_type": "markdown",
      "source": [
        "By removing records that contain super popular apps,we can shift your attention towards identifying and analyzing apps that have the potential to become promising in the future. This approach allows us to explore and understand other apps in dataset that may have gone unnoticed or received less attention, providing an opportunity to discover new trends or hidden gems."
      ],
      "metadata": {
        "id": "IJpt64axedkU"
      }
    },
    {
      "cell_type": "markdown",
      "source": [
        "## Chart - 3"
      ],
      "metadata": {
        "id": "YWcP9-Reepnp"
      }
    },
    {
      "cell_type": "code",
      "source": [
        "# Chart - 3 visualization code\n",
        "sns.distplot(play_store_data['Rating'],bins=20)\n",
        "plt.title('Distribution of app rating')\n",
        "plt.show()"
      ],
      "metadata": {
        "colab": {
          "base_uri": "https://localhost:8080/",
          "height": 472
        },
        "id": "rBfJVmy3d_HW",
        "outputId": "23b53c1b-75c7-47a3-dd92-7a254880015b"
      },
      "execution_count": null,
      "outputs": [
        {
          "output_type": "display_data",
          "data": {
            "text/plain": [
              "<Figure size 640x480 with 1 Axes>"
            ],
            "image/png": "[encoded data removed]"
          },
          "metadata": {}
        }
      ]
    },
    {
      "cell_type": "markdown",
      "source": [
        "### 1. Why did you pick the specific chart?"
      ],
      "metadata": {
        "id": "CqqTWTJyiHE6"
      }
    },
    {
      "cell_type": "markdown",
      "source": [
        "I used dist plot to represents the overall distribution of continuous data variables because distplot depicts the variation in the data distribution."
      ],
      "metadata": {
        "id": "gnFky-tEjDB-"
      }
    },
    {
      "cell_type": "markdown",
      "source": [
        "### 2. What is/are the insight(s) found from the chart?"
      ],
      "metadata": {
        "id": "Pu6XaQsFjn5E"
      }
    },
    {
      "cell_type": "markdown",
      "source": [
        " Analysed the ratings using the dist plot, I saw that they are skewed towards higher ratings."
      ],
      "metadata": {
        "id": "x6Qk0f9fjwLw"
      }
    },
    {
      "cell_type": "markdown",
      "source": [
        "### 3. Will the gained insights help creating a positive business impact?\n",
        "Are there any insights that lead to negative growth? Justify with specific reason."
      ],
      "metadata": {
        "id": "Fc1QT0DIj23S"
      }
    },
    {
      "cell_type": "markdown",
      "source": [
        "The observation of a dist plot showing a skewed distribution towards higher ratings can provide valuable insights for a business. It suggests positive customer satisfaction, contributes to brand reputation, and can attract new customers."
      ],
      "metadata": {
        "id": "RJB9uIm5j4aN"
      }
    },
    {
      "cell_type": "markdown",
      "source": [
        "## Chart - 4"
      ],
      "metadata": {
        "id": "zfPj8x6vkGQ1"
      }
    },
    {
      "cell_type": "code",
      "source": [
        "# Adults only 18+ and Unrated are not useful because very less in number so dropping these records\n",
        "play_store_data = play_store_data[~play_store_data['Content Rating'].isin(['Adults only 18+','Unrated'])]"
      ],
      "metadata": {
        "id": "QnMRJXJJliMw"
      },
      "execution_count": null,
      "outputs": []
    },
    {
      "cell_type": "code",
      "source": [
        "# Chart - 4 visualization code\n",
        "content_rating_show = play_store_data['Content Rating'].value_counts()\n",
        "content_rating_show"
      ],
      "metadata": {
        "colab": {
          "base_uri": "https://localhost:8080/"
        },
        "id": "KsNOd-3BdXed",
        "outputId": "aa3f3bcf-33d4-4349-9f0f-533059e14033"
      },
      "execution_count": null,
      "outputs": [
        {
          "output_type": "execute_result",
          "data": {
            "text/plain": [
              "Everyone        6656\n",
              "Teen             886\n",
              "Mature 17+       375\n",
              "Everyone 10+     305\n",
              "Name: Content Rating, dtype: int64"
            ]
          },
          "metadata": {},
          "execution_count": 57
        }
      ]
    },
    {
      "cell_type": "code",
      "source": [
        "plt.pie(content_rating_show.values,labels=content_rating_show.index,autopct='%.2f%%')\n",
        "plt.title(\"Content Rating Pie Chart\")\n",
        "plt.show()"
      ],
      "metadata": {
        "colab": {
          "base_uri": "https://localhost:8080/",
          "height": 428
        },
        "id": "Bfhanz26B48R",
        "outputId": "a4e8ad9e-a0e9-4a49-e66b-65b09d00774d"
      },
      "execution_count": null,
      "outputs": [
        {
          "output_type": "display_data",
          "data": {
            "text/plain": [
              "<Figure size 640x480 with 1 Axes>"
            ],
            "image/png": "[encoded data removed]"
          },
          "metadata": {}
        }
      ]
    },
    {
      "cell_type": "markdown",
      "source": [
        "### 1. Why did you pick the specific chart?"
      ],
      "metadata": {
        "id": "Z43e9dSumvMi"
      }
    },
    {
      "cell_type": "markdown",
      "source": [
        "I used pie chart to show percentages of a whole and a parts-to-whole relationship for 'Content Rating' column."
      ],
      "metadata": {
        "id": "EBl1I6LOm1oW"
      }
    },
    {
      "cell_type": "markdown",
      "source": [
        "### 2. What is/are the insight(s) found from the chart?"
      ],
      "metadata": {
        "id": "A2MgI5J1pixP"
      }
    },
    {
      "cell_type": "markdown",
      "source": [
        "The insights gained from the pie chart can inform the Most of the apps belong to the Everyone category."
      ],
      "metadata": {
        "id": "xjUnJ2d0qgQk"
      }
    },
    {
      "cell_type": "markdown",
      "source": [
        "### 3. Will the gained insights help creating a positive business impact?\n",
        "Are there any insights that lead to negative growth? Justify with specific reason."
      ],
      "metadata": {
        "id": "kk4VCuGkqqjL"
      }
    },
    {
      "cell_type": "markdown",
      "source": [
        "The content rating distribution helps the client align their app offerings with the preferences and needs of different age groups."
      ],
      "metadata": {
        "id": "lDfCgQj9qr9O"
      }
    },
    {
      "cell_type": "markdown",
      "source": [
        "## Chart - 5"
      ],
      "metadata": {
        "id": "zToFGBXxqxTA"
      }
    },
    {
      "cell_type": "code",
      "source": [
        "# Chart - 5 visualization code\n",
        "genres_show = play_store_data['Genres'].value_counts().head(10)\n",
        "genres_show"
      ],
      "metadata": {
        "colab": {
          "base_uri": "https://localhost:8080/"
        },
        "id": "2BsDKVLiq4rs",
        "outputId": "69bdbcc7-34b4-402d-d8c8-67ab3b2b2d5f"
      },
      "execution_count": null,
      "outputs": [
        {
          "output_type": "execute_result",
          "data": {
            "text/plain": [
              "Tools              693\n",
              "Entertainment      474\n",
              "Education          443\n",
              "Finance            309\n",
              "Productivity       300\n",
              "Medical            299\n",
              "Lifestyle          295\n",
              "Personalization    292\n",
              "Sports             277\n",
              "Action             271\n",
              "Name: Genres, dtype: int64"
            ]
          },
          "metadata": {},
          "execution_count": 44
        }
      ]
    },
    {
      "cell_type": "code",
      "source": [
        "#Top 10 Genres\n",
        "plt.barh(y=genres_show.index,width=genres_show.values,data=play_store_data,color='maroon')\n",
        "plt.title(\"Top 10 Genres\")\n",
        "plt.xlabel('count of genres')\n",
        "plt.ylabel('genre')\n",
        "plt.show()"
      ],
      "metadata": {
        "colab": {
          "base_uri": "https://localhost:8080/",
          "height": 472
        },
        "id": "oW30TXDEpjc8",
        "outputId": "664104bb-d48a-4f79-e66f-56bcdf25edf5"
      },
      "execution_count": null,
      "outputs": [
        {
          "output_type": "display_data",
          "data": {
            "text/plain": [
              "<Figure size 640x480 with 1 Axes>"
            ],
            "image/png": "[encoded data removed]"
          },
          "metadata": {}
        }
      ]
    },
    {
      "cell_type": "markdown",
      "source": [
        "### 1. Why did you pick the specific chart?"
      ],
      "metadata": {
        "id": "SoterTGKuQ7c"
      }
    },
    {
      "cell_type": "markdown",
      "source": [
        "I used a horizontal bar to compare different values ​​in the 'genre' column."
      ],
      "metadata": {
        "id": "LEY6KimYuSib"
      }
    },
    {
      "cell_type": "markdown",
      "source": [
        "### 2. What is/are the insight(s) found from the chart?"
      ],
      "metadata": {
        "id": "qidlL27_vGHw"
      }
    },
    {
      "cell_type": "markdown",
      "source": [
        "Tools, Entertainment, Education genre apps are the top 3 genre apps people use."
      ],
      "metadata": {
        "id": "SQZxnqwIvJl4"
      }
    },
    {
      "cell_type": "markdown",
      "source": [
        "### 3. Will the gained insights help creating a positive business impact?\n",
        "Are there any insights that lead to negative growth? Justify with specific reason."
      ],
      "metadata": {
        "id": "GC7nZpPMvtwN"
      }
    },
    {
      "cell_type": "markdown",
      "source": [
        "Knowing that Tools, Entertainment, and Education are the top genres of apps used by people allows the client to strategically focus their efforts and resources on developing and improving apps within these genres."
      ],
      "metadata": {
        "id": "b3nnwRvOvvdI"
      }
    },
    {
      "cell_type": "markdown",
      "source": [
        "## Chart - 6"
      ],
      "metadata": {
        "id": "GJdYtLdwvzWN"
      }
    },
    {
      "cell_type": "code",
      "source": [
        "# Chart - 6 visualization code\n",
        "plt.scatter(play_store_data['Price'],play_store_data['Rating'],color='green')\n",
        "plt.title('Price vs Rating')\n",
        "plt.xlabel('Price')\n",
        "plt.ylabel('Rating')\n",
        "plt.show()"
      ],
      "metadata": {
        "colab": {
          "base_uri": "https://localhost:8080/",
          "height": 472
        },
        "id": "ayEgTT1DdOsK",
        "outputId": "bb27194b-5a52-4327-8e68-fac7adfa93cf"
      },
      "execution_count": null,
      "outputs": [
        {
          "output_type": "display_data",
          "data": {
            "text/plain": [
              "<Figure size 640x480 with 1 Axes>"
            ],
            "image/png": "[encoded data removed]"
          },
          "metadata": {}
        }
      ]
    },
    {
      "cell_type": "markdown",
      "source": [
        "### 1. Why did you pick the specific chart?"
      ],
      "metadata": {
        "id": "6oYUedWBxk4K"
      }
    },
    {
      "cell_type": "markdown",
      "source": [
        "I used a scatter plot to visualize the relationship between the 'Price' and 'rating' columns."
      ],
      "metadata": {
        "id": "3c0Op3WQxmxB"
      }
    },
    {
      "cell_type": "markdown",
      "source": [
        "### 2. What is/are the insight(s) found from the chart?"
      ],
      "metadata": {
        "id": "aUuzozvVyq1d"
      }
    },
    {
      "cell_type": "markdown",
      "source": [
        "It seems price above  $15 there is no lower rating."
      ],
      "metadata": {
        "id": "f9Y9SBrHy85C"
      }
    },
    {
      "cell_type": "markdown",
      "source": [
        "### 3. Will the gained insights help creating a positive business impact?\n",
        "Are there any insights that lead to negative growth? Justify with specific reason."
      ],
      "metadata": {
        "id": "n-GUSd5lz_2Z"
      }
    },
    {
      "cell_type": "markdown",
      "source": [
        "The gained insight regarding the absence of lower ratings for apps priced above $15 can potentially create a positive business impact. It suggests that higher-priced apps tend to have higher ratings, indicating that users may perceive these apps as having higher quality, value, or features."
      ],
      "metadata": {
        "id": "x1s6ZGbN0BQM"
      }
    },
    {
      "cell_type": "markdown",
      "source": [
        "## Chart - 7"
      ],
      "metadata": {
        "id": "KuIE9FOK1EBM"
      }
    },
    {
      "cell_type": "code",
      "source": [
        "# Chart - 7 visualization code\n",
        "sns.barplot(data=play_store_data,x='Content Rating',y='Price')\n",
        "plt.show()"
      ],
      "metadata": {
        "id": "qERH1Mziy8Ky",
        "colab": {
          "base_uri": "https://localhost:8080/",
          "height": 454
        },
        "outputId": "2b3938a6-db15-4dba-f740-972ff5834247"
      },
      "execution_count": null,
      "outputs": [
        {
          "output_type": "display_data",
          "data": {
            "text/plain": [
              "<Figure size 640x480 with 1 Axes>"
            ],
            "image/png": "[encoded data removed]"
          },
          "metadata": {}
        }
      ]
    },
    {
      "cell_type": "markdown",
      "source": [
        "### 1. Why did you pick the specific chart?"
      ],
      "metadata": {
        "id": "cT_HVh09KfjB"
      }
    },
    {
      "cell_type": "markdown",
      "source": [
        "I used bar chart in the 'Content Rating' and 'Price' columns to visualize trends and comparisons."
      ],
      "metadata": {
        "id": "dSvDW4VCKgWW"
      }
    },
    {
      "cell_type": "markdown",
      "source": [
        "### 2. What is/are the insight(s) found from the chart?"
      ],
      "metadata": {
        "id": "roPiJ7ulPiPm"
      }
    },
    {
      "cell_type": "markdown",
      "source": [
        "Received information about the number of apps with a content rating 'Everyone above 10+' who pays more for apps."
      ],
      "metadata": {
        "id": "yW0xoLtATa6K"
      }
    },
    {
      "cell_type": "markdown",
      "source": [
        "### 3. Will the gained insights help creating a positive business impact?\n",
        "Are there any insights that lead to negative growth? Justify with specific reason."
      ],
      "metadata": {
        "id": "QpjrlZgOUGVr"
      }
    },
    {
      "cell_type": "markdown",
      "source": [
        "This insight can be leveraged by the client to develop and promote high-quality, premium apps targeting users who are willing to invest in a safe and family-friendly app experience."
      ],
      "metadata": {
        "id": "TFAlsJinUJ0o"
      }
    },
    {
      "cell_type": "markdown",
      "source": [
        "## Chart - 8"
      ],
      "metadata": {
        "id": "ZFkOWNWN3DDD"
      }
    },
    {
      "cell_type": "code",
      "source": [
        "# Chart - 8 visualization code\n",
        "sns.scatterplot(data=play_store_data,x='Price',y='Installs',hue='Content Rating')\n",
        "plt.title(\"Price and Age wise Installs\")\n",
        "plt.show()"
      ],
      "metadata": {
        "id": "33JByplIdOpO",
        "colab": {
          "base_uri": "https://localhost:8080/",
          "height": 472
        },
        "outputId": "c3ea0c0b-85fc-4421-eee1-65aaef10bfe8"
      },
      "execution_count": null,
      "outputs": [
        {
          "output_type": "display_data",
          "data": {
            "text/plain": [
              "<Figure size 640x480 with 1 Axes>"
            ],
            "image/png": "[encoded data removed]"
          },
          "metadata": {}
        }
      ]
    },
    {
      "cell_type": "markdown",
      "source": [
        "### 1. Why did you pick the specific chart?"
      ],
      "metadata": {
        "id": "uSQHBiNfJaqU"
      }
    },
    {
      "cell_type": "markdown",
      "source": [
        "I used Scatter Plot to find out the relationship between 'Price'and 'Installs' by age ."
      ],
      "metadata": {
        "id": "Si7txpLUJbnX"
      }
    },
    {
      "cell_type": "markdown",
      "source": [
        "### 2. What is/are the insight(s) found from the chart?"
      ],
      "metadata": {
        "id": "IIUiG3zjPkt_"
      }
    },
    {
      "cell_type": "markdown",
      "source": [
        "It seems that offering apps for free or at a lower price point can lead to a higher number of installs, indicating a potential larger user base."
      ],
      "metadata": {
        "id": "ZdBQkGSJUT3R"
      }
    },
    {
      "cell_type": "markdown",
      "source": [
        "### 3. Will the gained insights help creating a positive business impact?\n",
        "Are there any insights that lead to negative growth? Justify with specific reason."
      ],
      "metadata": {
        "id": "AQwwq-aHUUah"
      }
    },
    {
      "cell_type": "markdown",
      "source": [
        " While offering apps for free or at lower prices can increase the number of installs, there is a potential negative growth factor to consider. When the price of an app increases, the number of installs decreases. This suggests that users may be more hesitant to download or purchase apps at higher price points."
      ],
      "metadata": {
        "id": "wJDONproUZXY"
      }
    },
    {
      "cell_type": "markdown",
      "source": [
        "## Chart - 9"
      ],
      "metadata": {
        "id": "ZfIaKhdI7N30"
      }
    },
    {
      "cell_type": "code",
      "source": [
        "# Chart - 9 visualization code\n",
        "sns.boxplot(data=play_store_data,x='Content Rating',y='Rating')\n",
        "plt.title('Age wise Rating')\n",
        "plt.show()"
      ],
      "metadata": {
        "id": "TlrGa85PdOmJ",
        "colab": {
          "base_uri": "https://localhost:8080/",
          "height": 472
        },
        "outputId": "1cd8ca85-36bf-48d1-f3e2-54ab98461237"
      },
      "execution_count": null,
      "outputs": [
        {
          "output_type": "display_data",
          "data": {
            "text/plain": [
              "<Figure size 640x480 with 1 Axes>"
            ],
            "image/png": "[encoded data removed]"
          },
          "metadata": {}
        }
      ]
    },
    {
      "cell_type": "markdown",
      "source": [
        "### 1. Why did you pick the specific chart?"
      ],
      "metadata": {
        "id": "yE5nViz3-LZG"
      }
    },
    {
      "cell_type": "markdown",
      "source": [
        "I used Box plot to get a quick visual summary of the variability of rating by age ."
      ],
      "metadata": {
        "id": "Dev1NWV3-RLR"
      }
    },
    {
      "cell_type": "markdown",
      "source": [
        "### 2. What is/are the insight(s) found from the chart?"
      ],
      "metadata": {
        "id": "Wz_0Dyl8-UKC"
      }
    },
    {
      "cell_type": "markdown",
      "source": [
        "That “Everyone” category has the highest number of ratings in the lower percentiles as compared to the other categories.And The median values are all comparable."
      ],
      "metadata": {
        "id": "f2AG6AgZ-ZdX"
      }
    },
    {
      "cell_type": "markdown",
      "source": [
        "### 3. Will the gained insights help creating a positive business impact?\n",
        "Are there any insights that lead to negative growth? Justify with specific reason."
      ],
      "metadata": {
        "id": "PaAj24fM-h7A"
      }
    },
    {
      "cell_type": "markdown",
      "source": [
        "The gained insights regarding the variability of ratings by age, as observed through the box plot, can potentially create a positive business impact. Understanding that the \"Everyone\" category has a higher number of ratings in the lower percentiles suggests that there is a larger user base within this category, indicating a broader market reach."
      ],
      "metadata": {
        "id": "BXfR7Gpf-nLy"
      }
    },
    {
      "cell_type": "markdown",
      "source": [
        "## Chart - 10"
      ],
      "metadata": {
        "id": "2Hq0C1-S-uCX"
      }
    },
    {
      "cell_type": "code",
      "source": [
        "# Chart - 10 visualization code\n",
        "sns.boxplot(data=play_store_data,x='Type',y='Rating')\n",
        "plt.title(\"Type wise Rating\")\n",
        "plt.show()"
      ],
      "metadata": {
        "id": "l-TiBIP3dOj_",
        "colab": {
          "base_uri": "https://localhost:8080/",
          "height": 472
        },
        "outputId": "dd06cd8b-c531-4075-e35b-1d45a05606e9"
      },
      "execution_count": null,
      "outputs": [
        {
          "output_type": "display_data",
          "data": {
            "text/plain": [
              "<Figure size 640x480 with 1 Axes>"
            ],
            "image/png": "[encoded data removed]"
          },
          "metadata": {}
        }
      ]
    },
    {
      "cell_type": "markdown",
      "source": [
        "### 1. Why did you pick the specific chart?"
      ],
      "metadata": {
        "id": "-EYJmVF2IyAe"
      }
    },
    {
      "cell_type": "markdown",
      "source": [
        "I used box plots to get a quick visual summary of the variability of ratings by type in the dataset."
      ],
      "metadata": {
        "id": "XaikR0eGIzAz"
      }
    },
    {
      "cell_type": "markdown",
      "source": [
        "### 2. What is/are the insight(s) found from the chart?"
      ],
      "metadata": {
        "id": "Jyq0g4EsPo0s"
      }
    },
    {
      "cell_type": "markdown",
      "source": [
        "Box plot shows that the median rating for paid apps is slightly higher than that of free apps."
      ],
      "metadata": {
        "id": "gAQoFPA7eQZ_"
      }
    },
    {
      "cell_type": "markdown",
      "source": [
        "### 3. Will the gained insights help creating a positive business impact?\n",
        "Are there any insights that lead to negative growth? Justify with specific reason."
      ],
      "metadata": {
        "id": "79ectElteQIp"
      }
    },
    {
      "cell_type": "markdown",
      "source": [
        "The higher median rating for paid apps indicates that users who are willing to pay are generally satisfied with the app's performance. This finding can be beneficial for revenue generation. Positive ratings can attract more users to purchase the paid app, leading to increased downloads and revenue."
      ],
      "metadata": {
        "id": "Wg38KqeEm-qK"
      }
    },
    {
      "cell_type": "markdown",
      "source": [
        "## Chart - 11\n",
        "\n"
      ],
      "metadata": {
        "id": "A6HU9x23Culj"
      }
    },
    {
      "cell_type": "code",
      "source": [
        "# Chart - 11 visualization code\n",
        "play_store_data.groupby(['Updated Month'])['Rating'].mean().plot()\n",
        "plt.title(\"Month Wise Rating\")\n",
        "plt.show()"
      ],
      "metadata": {
        "id": "V7ySjsSUycIm",
        "colab": {
          "base_uri": "https://localhost:8080/",
          "height": 458
        },
        "outputId": "a58a5d37-bdb8-4c63-cef0-d8532d9989c4"
      },
      "execution_count": null,
      "outputs": [
        {
          "output_type": "display_data",
          "data": {
            "text/plain": [
              "<Figure size 640x480 with 1 Axes>"
            ],
            "image/png": "[encoded data removed]"
          },
          "metadata": {}
        }
      ]
    },
    {
      "cell_type": "markdown",
      "source": [
        "### 1. Why did you pick the specific chart?"
      ],
      "metadata": {
        "id": "2wFWrFP5H9xL"
      }
    },
    {
      "cell_type": "markdown",
      "source": [
        "I used line plot to track changes in the 'Rating' column over time.\n"
      ],
      "metadata": {
        "id": "IALMqN9cH_Bf"
      }
    },
    {
      "cell_type": "markdown",
      "source": [
        "### 2. What is/are the insight(s) found from the chart?"
      ],
      "metadata": {
        "id": "zfnmTUPvPrFe"
      }
    },
    {
      "cell_type": "markdown",
      "source": [
        "Observed that there are high ratings during mid-month periods."
      ],
      "metadata": {
        "id": "GzF-t4SzeNl_"
      }
    },
    {
      "cell_type": "markdown",
      "source": [
        "### 3. Will the gained insights help creating a positive business impact?\n",
        "Are there any insights that lead to negative growth? Justify with specific reason."
      ],
      "metadata": {
        "id": "lt4I_jCGeOXR"
      }
    },
    {
      "cell_type": "markdown",
      "source": [
        " If the high ratings occur consistently during mid-month periods, it suggests the presence of seasonal patterns or specific events that positively influence user ratings. Gained insights from the line plot can help businesses identify these patterns and leverage them to create targeted marketing campaigns or promotions during those periods"
      ],
      "metadata": {
        "id": "8Yb-c59Ni7Ah"
      }
    },
    {
      "cell_type": "markdown",
      "source": [
        "## Chart - 12\n"
      ],
      "metadata": {
        "id": "USXCVXRXFXgU"
      }
    },
    {
      "cell_type": "code",
      "source": [
        "# Chart - 12 visualization code\n",
        "sns.scatterplot(data=play_store_data,x='Rating',y='Installs',hue='Type')\n",
        "plt.title(\"Type Wise Rating and Installs\")\n",
        "plt.show()"
      ],
      "metadata": {
        "id": "YrB9uxWVQCx-",
        "colab": {
          "base_uri": "https://localhost:8080/",
          "height": 472
        },
        "outputId": "f7659cec-4cfa-49bb-e32b-76925fa10f9b"
      },
      "execution_count": null,
      "outputs": [
        {
          "output_type": "display_data",
          "data": {
            "text/plain": [
              "<Figure size 640x480 with 1 Axes>"
            ],
            "image/png": "[encoded data removed]"
          },
          "metadata": {}
        }
      ]
    },
    {
      "cell_type": "markdown",
      "source": [
        "### 1. Why did you pick the specific chart?"
      ],
      "metadata": {
        "id": "qpCvh8QxHRsT"
      }
    },
    {
      "cell_type": "markdown",
      "source": [
        "I used Scatter Plot to visualize the relationship between 'Rating' and 'Installs' variables."
      ],
      "metadata": {
        "id": "bPw6W7ROHTLh"
      }
    },
    {
      "cell_type": "markdown",
      "source": [
        "### 2. What is/are the insight(s) found from the chart?"
      ],
      "metadata": {
        "id": "kcfbev0RPuOt"
      }
    },
    {
      "cell_type": "markdown",
      "source": [
        "High-rated free apps have low installs."
      ],
      "metadata": {
        "id": "YBRkwE4_eKga"
      }
    },
    {
      "cell_type": "markdown",
      "source": [
        "### 3. Will the gained insights help creating a positive business impact?\n",
        "Are there any insights that lead to negative growth? Justify with specific reason."
      ],
      "metadata": {
        "id": "vLNL3clceKU-"
      }
    },
    {
      "cell_type": "markdown",
      "source": [
        "High-rated free apps have low installs, it suggests that there might be a mismatch between the user experience and the value proposition of the app."
      ],
      "metadata": {
        "id": "VYGuUXrrhK9E"
      }
    },
    {
      "cell_type": "markdown",
      "source": [
        "## Chart - 13"
      ],
      "metadata": {
        "id": "MOTrK3UeHtN4"
      }
    },
    {
      "cell_type": "code",
      "source": [
        "# Chart - 13 visualization code\n",
        "play_store_data.groupby(['Updated Month'])['Installs'].mean().plot()\n",
        "plt.title(\"Month Wise Installs\")\n",
        "plt.show()"
      ],
      "metadata": {
        "id": "9mDDa4WpQCui",
        "colab": {
          "base_uri": "https://localhost:8080/",
          "height": 458
        },
        "outputId": "16e3fb35-7ab5-4de3-892d-84f292850362"
      },
      "execution_count": null,
      "outputs": [
        {
          "output_type": "display_data",
          "data": {
            "text/plain": [
              "<Figure size 640x480 with 1 Axes>"
            ],
            "image/png": "[encoded data removed]"
          },
          "metadata": {}
        }
      ]
    },
    {
      "cell_type": "markdown",
      "source": [
        "### 1. Why did you pick the specific chart?"
      ],
      "metadata": {
        "id": "HQyBsA0kG6t6"
      }
    },
    {
      "cell_type": "markdown",
      "source": [
        "I used line plot to track changes in the 'Installs' column over time."
      ],
      "metadata": {
        "id": "xjDHDlmHG7-b"
      }
    },
    {
      "cell_type": "markdown",
      "source": [
        "### 2. What is/are the insight(s) found from the chart?"
      ],
      "metadata": {
        "id": "cM_C1YNLPwd8"
      }
    },
    {
      "cell_type": "markdown",
      "source": [
        "The high installs during the mid month could indicate a seasonal trend or event that drives increased demand for the apps."
      ],
      "metadata": {
        "id": "Q5pYxStLeIF9"
      }
    },
    {
      "cell_type": "markdown",
      "source": [
        "### 3. Will the gained insights help creating a positive business impact?\n",
        "Are there any insights that lead to negative growth? Justify with specific reason."
      ],
      "metadata": {
        "id": "EUZBc_POeHx-"
      }
    },
    {
      "cell_type": "markdown",
      "source": [
        " Increased installs during the mid month can translate into higher revenue potential."
      ],
      "metadata": {
        "id": "9jh3K1ubggVI"
      }
    },
    {
      "cell_type": "markdown",
      "source": [
        "## Chart - 14 - Correlation Heatmap"
      ],
      "metadata": {
        "id": "ogrkCzWNIpPc"
      }
    },
    {
      "cell_type": "code",
      "source": [
        "# Correlation Heatmap visualization code\n",
        "corr_df = play_store_data.corr()"
      ],
      "metadata": {
        "id": "k2q5cd8wOfwQ"
      },
      "execution_count": null,
      "outputs": []
    },
    {
      "cell_type": "code",
      "source": [
        "sns.heatmap(corr_df,annot=True)\n",
        "plt.title('Correlation Heatmap')\n",
        "plt.show()"
      ],
      "metadata": {
        "colab": {
          "base_uri": "https://localhost:8080/",
          "height": 452
        },
        "id": "FC2LmNe5dylE",
        "outputId": "a280a8b0-9af1-484c-fb02-49985e87957f"
      },
      "execution_count": null,
      "outputs": [
        {
          "output_type": "display_data",
          "data": {
            "text/plain": [
              "<Figure size 640x480 with 2 Axes>"
            ],
            "image/png": "[encoded data removed]"
          },
          "metadata": {}
        }
      ]
    },
    {
      "cell_type": "markdown",
      "source": [
        "### 1. Why did you pick the specific chart?"
      ],
      "metadata": {
        "id": "uuQFsl3cGSy7"
      }
    },
    {
      "cell_type": "markdown",
      "source": [
        "I used correlation heatmap to displays the correlation between multiple variables."
      ],
      "metadata": {
        "id": "pjqaYsJqGT7j"
      }
    },
    {
      "cell_type": "markdown",
      "source": [
        "### 2. What is/are the insight(s) found from the chart?"
      ],
      "metadata": {
        "id": "2zdjlh3NPydC"
      }
    },
    {
      "cell_type": "markdown",
      "source": [
        "Using a correlation heatmap, visualize multiple correlation and draw several inferences, for example, reviews and price being inversely related (-0.073) and so on."
      ],
      "metadata": {
        "id": "Zq1SqDpQeGJj"
      }
    },
    {
      "cell_type": "markdown",
      "source": [
        "### 3. Will the gained insights help creating a positive business impact?\n",
        "Are there any insights that lead to negative growth? Justify with specific reason."
      ],
      "metadata": {
        "id": "sBB3p6UEeCbP"
      }
    },
    {
      "cell_type": "markdown",
      "source": [
        "Reviews and price being inversely related: This insight implies that as the price of a product increases, the number of reviews tends to decrease. From a business perspective, this could indicate that higher-priced products may have a smaller customer base or face higher barriers to adoption."
      ],
      "metadata": {
        "id": "sfURtUwgeBxF"
      }
    },
    {
      "cell_type": "markdown",
      "source": [
        "## Chart - 15 - Pair Plot"
      ],
      "metadata": {
        "id": "dzQwG34XJJZt"
      }
    },
    {
      "cell_type": "code",
      "source": [
        "# Pair Plot visualization code\n",
        "sns.pairplot(play_store_data)\n",
        "plt.title('Pair Plot')\n",
        "plt.show()"
      ],
      "metadata": {
        "id": "UkTylnElfVx7",
        "colab": {
          "base_uri": "https://localhost:8080/",
          "height": 1000
        },
        "outputId": "6671232e-0a86-4657-8700-929bb825738b"
      },
      "execution_count": null,
      "outputs": [
        {
          "output_type": "display_data",
          "data": {
            "text/plain": [
              "<Figure size 1000x1000 with 20 Axes>"
            ],
            "image/png": "[encoded data removed]"
          },
          "metadata": {}
        }
      ]
    },
    {
      "cell_type": "markdown",
      "source": [
        "### 1. Why did you pick the specific chart?"
      ],
      "metadata": {
        "id": "Hci2inJiFl9B"
      }
    },
    {
      "cell_type": "markdown",
      "source": [
        "I used pair plot because it allows us to plot pairwise relationships between variables."
      ],
      "metadata": {
        "id": "kv6gLoErF7gE"
      }
    },
    {
      "cell_type": "markdown",
      "source": [
        "### 2. What is/are the insight(s) found from the chart?"
      ],
      "metadata": {
        "id": "4FdbsZSxP0qL"
      }
    },
    {
      "cell_type": "markdown",
      "source": [
        "Using a pair-plot, visualize multiple scatter plots and draw several inferences, for example, price and rating having very weak trend, reviews and price being inversely related and so on."
      ],
      "metadata": {
        "id": "ZK6cIkWSdu-q"
      }
    },
    {
      "cell_type": "markdown",
      "source": [
        "### 3. Will the gained insights help creating a positive business impact?\n",
        "Are there any insights that lead to negative growth? Justify with specific reason."
      ],
      "metadata": {
        "id": "fU32FLKud2e3"
      }
    },
    {
      "cell_type": "markdown",
      "source": [
        "Price and rating having a very weak trend: This insight may suggest that price does not strongly influence the rating of a product. In terms of business impact, this could mean that setting higher prices does not necessarily result in higher ratings.  \n",
        "\n"
      ],
      "metadata": {
        "id": "8rvwoiMdeABW"
      }
    },
    {
      "cell_type": "markdown",
      "source": [
        "## **5. Solution to Business Objective**"
      ],
      "metadata": {
        "id": "H9Wgz-rcHGeP"
      }
    },
    {
      "cell_type": "markdown",
      "source": [
        "Target the Everyone category: Since most of the apps belong to the Everyone category, it indicates a larger potential user base. The client can focus on developing and promoting apps that cater to this category, ensuring they meet the requirements and interests of a wide range of users.\n",
        "\n",
        "Emphasize popular genres: Tools, Entertainment, and Education are the top three genres that people use. The client can consider developing apps in these genres to align with user preferences and increase the likelihood of app adoption.\n",
        "\n",
        "Optimize pricing strategy: Removing outliers in the Price column and focusing on apps below $30 suggests that the client should consider a pricing strategy that keeps the prices within a reasonable range. Offering apps for free or at lower price points can lead to a higher number of installs and potentially attract a larger user base.\n",
        "\n",
        "Enhance user experience: With the ratings skewed towards higher ratings, it indicates that users generally have a positive perception of the apps. However, it's essential to ensure that the apps meet or exceed user expectations to maintain positive reviews and encourage app engagement. Continuously improving the user experience, addressing user feedback, and providing regular updates can contribute to positive business growth.\n",
        "\n",
        "Consider mid-month promotions: The observation of high ratings and increased installs during mid-month periods suggests a potential seasonal trend or event that drives increased demand. The client can leverage this insight by planning targeted promotions, special offers, or updates during these periods to further boost app downloads and user engagement.\n",
        "\n",
        "Utilize correlation insights: The correlation heatmap and pair-plot analysis provide valuable insights into the relationships between variables. For example, the inverse relationship between reviews and price suggests that higher-priced apps may receive fewer reviews. The client can consider adjusting pricing strategies to encourage more reviews and feedback, which can positively impact app visibility and user trust.\n",
        "\n",
        "Monitor and analyze content rating preferences: Understanding the preferences of users who pay more for apps in the 'Everyone above 10+' category can provide insights into their specific needs and expectations. This information can guide the client in developing targeted marketing campaigns, optimizing app features, or exploring potential opportunities for monetization within this user segment."
      ],
      "metadata": {
        "id": "gmfYlmZdHHyp"
      }
    },
    {
      "cell_type": "markdown",
      "source": [
        "# **Conclusion**"
      ],
      "metadata": {
        "id": "MVbDo2QEHOib"
      }
    },
    {
      "cell_type": "markdown",
      "source": [
        "The majority of apps in the dataset belong to the Everyone category, indicating a larger potential user base.\n",
        "\n",
        "Tools, Entertainment, and Education are the top three genres that people use.\n",
        "\n",
        "Removing outliers and focusing on apps priced below $30 suggests that the client should consider a pricing strategy that keeps prices within a reasonable range.\n",
        "\n",
        "The ratings distribution is skewed towards higher ratings, indicating that users generally have a positive perception of the apps.\n",
        "\n",
        "The observation of high ratings and increased installs during mid-month periods suggests a potential seasonal trend or event that drives increased demand.\n",
        "\n"
      ],
      "metadata": {
        "id": "Nr3C1eZeHPy2"
      }
    },
    {
      "cell_type": "markdown",
      "source": [
        "### ***Hurrah! You have successfully completed your EDA Capstone Project !!!***"
      ],
      "metadata": {
        "id": "yhzWr0spJQbK"
      }
    }
  ]
}